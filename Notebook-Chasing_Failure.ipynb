{
  "nbformat": 4,
  "nbformat_minor": 0,
  "metadata": {
    "colab": {
      "name": "Notebook.ipynb",
      "provenance": [],
      "collapsed_sections": []
    },
    "kernelspec": {
      "name": "python3",
      "display_name": "Python 3"
    }
  },
  "cells": [
    {
      "cell_type": "markdown",
      "metadata": {
        "id": "u7LlXz-bXacV"
      },
      "source": [
        "#**PRAKRITI - DATA ANALYTICS**"
      ]
    },
    {
      "cell_type": "markdown",
      "metadata": {
        "id": "7MdRO7RpXnUU"
      },
      "source": [
        "#TEAM NAME : CHASING FAILURE\r\n",
        "##MEMBERS : \r\n",
        "####Name - Chitranshu Ranjan\r\n",
        "####Contact Number - 8207279999\r\n",
        "####Email address - chitranshu47@gmail.com\r\n",
        "####Institute - IIT Kharagpur\r\n",
        "\r\n",
        "####Name - Kirti Vardhan\r\n",
        "####Contact Number - 9117691398\r\n",
        "####Email address - kirtivardhan2000@gmail.com\r\n",
        "####Institute - IIT Kharagpur\r\n",
        "\r\n",
        "####Name - Raunak Raj\r\n",
        "####Contact Number - 9097856670\r\n",
        "####Email address - raunakraj1219@gmail.com\r\n",
        "####Institute - IIT Kharagpur"
      ]
    },
    {
      "cell_type": "markdown",
      "metadata": {
        "id": "PbIEeav8ZQqD"
      },
      "source": [
        "##Importing required libraries"
      ]
    },
    {
      "cell_type": "code",
      "metadata": {
        "id": "FF4V6jIyXHQ9"
      },
      "source": [
        "import pandas as pd\r\n",
        "import numpy as np\r\n",
        "from sklearn.model_selection import train_test_split\r\n",
        "from sklearn.metrics import accuracy_score, confusion_matrix, cohen_kappa_score, plot_confusion_matrix\r\n",
        "import matplotlib.pyplot as plt\r\n",
        "import seaborn as sns\r\n",
        "from sklearn.ensemble import RandomForestClassifier\r\n",
        "from sklearn.svm import SVC\r\n",
        "from sklearn.ensemble import GradientBoostingClassifier"
      ],
      "execution_count": 1,
      "outputs": []
    },
    {
      "cell_type": "markdown",
      "metadata": {
        "id": "gnzb0J-iZVf6"
      },
      "source": [
        "##Mounting Drive"
      ]
    },
    {
      "cell_type": "code",
      "metadata": {
        "id": "YutBTmG9cH-H",
        "colab": {
          "base_uri": "https://localhost:8080/"
        },
        "outputId": "902fe302-af72-43d8-8e45-b165f00d933d"
      },
      "source": [
        "from google.colab import drive\r\n",
        "drive.mount('/content/drive')"
      ],
      "execution_count": 2,
      "outputs": [
        {
          "output_type": "stream",
          "text": [
            "Mounted at /content/drive\n"
          ],
          "name": "stdout"
        }
      ]
    },
    {
      "cell_type": "markdown",
      "metadata": {
        "id": "T-hSTQeuZbBr"
      },
      "source": [
        "##Importing the Data and creating Dataframe"
      ]
    },
    {
      "cell_type": "code",
      "metadata": {
        "id": "7T1gplSGcIAs"
      },
      "source": [
        "df = pd.read_csv('/content/drive/MyDrive/Prakriti-2021/Data.csv')"
      ],
      "execution_count": 3,
      "outputs": []
    },
    {
      "cell_type": "code",
      "metadata": {
        "id": "vhhuAAtxcID_",
        "colab": {
          "base_uri": "https://localhost:8080/",
          "height": 204
        },
        "outputId": "ac34c148-c9c7-4894-e8db-ce4b9996a9a1"
      },
      "source": [
        "df.head()"
      ],
      "execution_count": 4,
      "outputs": [
        {
          "output_type": "execute_result",
          "data": {
            "text/html": [
              "<div>\n",
              "<style scoped>\n",
              "    .dataframe tbody tr th:only-of-type {\n",
              "        vertical-align: middle;\n",
              "    }\n",
              "\n",
              "    .dataframe tbody tr th {\n",
              "        vertical-align: top;\n",
              "    }\n",
              "\n",
              "    .dataframe thead th {\n",
              "        text-align: right;\n",
              "    }\n",
              "</style>\n",
              "<table border=\"1\" class=\"dataframe\">\n",
              "  <thead>\n",
              "    <tr style=\"text-align: right;\">\n",
              "      <th></th>\n",
              "      <th>Name</th>\n",
              "      <th>Ingradients</th>\n",
              "      <th>Diet</th>\n",
              "      <th>Preparation Time</th>\n",
              "      <th>Cooking Time</th>\n",
              "      <th>Flavor</th>\n",
              "      <th>Course</th>\n",
              "      <th>State</th>\n",
              "      <th>Region</th>\n",
              "      <th>Price/unit</th>\n",
              "    </tr>\n",
              "  </thead>\n",
              "  <tbody>\n",
              "    <tr>\n",
              "      <th>0</th>\n",
              "      <td>Balu shahi</td>\n",
              "      <td>Maida flour, yogurt, oil, sugar</td>\n",
              "      <td>vegetarian</td>\n",
              "      <td>45.0</td>\n",
              "      <td>25.0</td>\n",
              "      <td>sweet</td>\n",
              "      <td>dessert</td>\n",
              "      <td>West Bengal</td>\n",
              "      <td>East</td>\n",
              "      <td>260</td>\n",
              "    </tr>\n",
              "    <tr>\n",
              "      <th>1</th>\n",
              "      <td>Boondi</td>\n",
              "      <td>Gram flour, ghee, sugar</td>\n",
              "      <td>vegetarian</td>\n",
              "      <td>80.0</td>\n",
              "      <td>30.0</td>\n",
              "      <td>sweet</td>\n",
              "      <td>dessert</td>\n",
              "      <td>Rajasthan</td>\n",
              "      <td>West</td>\n",
              "      <td>270</td>\n",
              "    </tr>\n",
              "    <tr>\n",
              "      <th>2</th>\n",
              "      <td>Gajar ka halwa</td>\n",
              "      <td>Carrots, milk, sugar, ghee, cashews, raisins</td>\n",
              "      <td>vegetarian</td>\n",
              "      <td>15.0</td>\n",
              "      <td>60.0</td>\n",
              "      <td>sweet</td>\n",
              "      <td>dessert</td>\n",
              "      <td>Punjab</td>\n",
              "      <td>North</td>\n",
              "      <td>450</td>\n",
              "    </tr>\n",
              "    <tr>\n",
              "      <th>3</th>\n",
              "      <td>Ghevar</td>\n",
              "      <td>Flour, ghee, kewra, milk, clarified butter, su...</td>\n",
              "      <td>vegetarian</td>\n",
              "      <td>15.0</td>\n",
              "      <td>30.0</td>\n",
              "      <td>sweet</td>\n",
              "      <td>dessert</td>\n",
              "      <td>Rajasthan</td>\n",
              "      <td>West</td>\n",
              "      <td>460</td>\n",
              "    </tr>\n",
              "    <tr>\n",
              "      <th>4</th>\n",
              "      <td>Gulab jamun</td>\n",
              "      <td>Milk powder, plain flour, baking powder, ghee,...</td>\n",
              "      <td>vegetarian</td>\n",
              "      <td>15.0</td>\n",
              "      <td>40.0</td>\n",
              "      <td>sweet</td>\n",
              "      <td>dessert</td>\n",
              "      <td>West Bengal</td>\n",
              "      <td>East</td>\n",
              "      <td>300</td>\n",
              "    </tr>\n",
              "  </tbody>\n",
              "</table>\n",
              "</div>"
            ],
            "text/plain": [
              "             Name  ... Price/unit\n",
              "0      Balu shahi  ...        260\n",
              "1          Boondi  ...        270\n",
              "2  Gajar ka halwa  ...        450\n",
              "3          Ghevar  ...        460\n",
              "4     Gulab jamun  ...        300\n",
              "\n",
              "[5 rows x 10 columns]"
            ]
          },
          "metadata": {
            "tags": []
          },
          "execution_count": 4
        }
      ]
    },
    {
      "cell_type": "code",
      "metadata": {
        "id": "Ob9W6fzpciGc",
        "colab": {
          "base_uri": "https://localhost:8080/",
          "height": 297
        },
        "outputId": "da9e885c-f4b1-4c32-ed29-6d84f81a7f96"
      },
      "source": [
        "df.describe()"
      ],
      "execution_count": 5,
      "outputs": [
        {
          "output_type": "execute_result",
          "data": {
            "text/html": [
              "<div>\n",
              "<style scoped>\n",
              "    .dataframe tbody tr th:only-of-type {\n",
              "        vertical-align: middle;\n",
              "    }\n",
              "\n",
              "    .dataframe tbody tr th {\n",
              "        vertical-align: top;\n",
              "    }\n",
              "\n",
              "    .dataframe thead th {\n",
              "        text-align: right;\n",
              "    }\n",
              "</style>\n",
              "<table border=\"1\" class=\"dataframe\">\n",
              "  <thead>\n",
              "    <tr style=\"text-align: right;\">\n",
              "      <th></th>\n",
              "      <th>Preparation Time</th>\n",
              "      <th>Cooking Time</th>\n",
              "      <th>Price/unit</th>\n",
              "    </tr>\n",
              "  </thead>\n",
              "  <tbody>\n",
              "    <tr>\n",
              "      <th>count</th>\n",
              "      <td>225.000000</td>\n",
              "      <td>227.000000</td>\n",
              "      <td>255.000000</td>\n",
              "    </tr>\n",
              "    <tr>\n",
              "      <th>mean</th>\n",
              "      <td>35.386667</td>\n",
              "      <td>38.911894</td>\n",
              "      <td>366.419608</td>\n",
              "    </tr>\n",
              "    <tr>\n",
              "      <th>std</th>\n",
              "      <td>76.241081</td>\n",
              "      <td>49.421711</td>\n",
              "      <td>99.660647</td>\n",
              "    </tr>\n",
              "    <tr>\n",
              "      <th>min</th>\n",
              "      <td>5.000000</td>\n",
              "      <td>2.000000</td>\n",
              "      <td>200.000000</td>\n",
              "    </tr>\n",
              "    <tr>\n",
              "      <th>25%</th>\n",
              "      <td>10.000000</td>\n",
              "      <td>20.000000</td>\n",
              "      <td>285.000000</td>\n",
              "    </tr>\n",
              "    <tr>\n",
              "      <th>50%</th>\n",
              "      <td>10.000000</td>\n",
              "      <td>30.000000</td>\n",
              "      <td>340.000000</td>\n",
              "    </tr>\n",
              "    <tr>\n",
              "      <th>75%</th>\n",
              "      <td>20.000000</td>\n",
              "      <td>45.000000</td>\n",
              "      <td>450.000000</td>\n",
              "    </tr>\n",
              "    <tr>\n",
              "      <th>max</th>\n",
              "      <td>500.000000</td>\n",
              "      <td>720.000000</td>\n",
              "      <td>890.000000</td>\n",
              "    </tr>\n",
              "  </tbody>\n",
              "</table>\n",
              "</div>"
            ],
            "text/plain": [
              "       Preparation Time  Cooking Time  Price/unit\n",
              "count        225.000000    227.000000  255.000000\n",
              "mean          35.386667     38.911894  366.419608\n",
              "std           76.241081     49.421711   99.660647\n",
              "min            5.000000      2.000000  200.000000\n",
              "25%           10.000000     20.000000  285.000000\n",
              "50%           10.000000     30.000000  340.000000\n",
              "75%           20.000000     45.000000  450.000000\n",
              "max          500.000000    720.000000  890.000000"
            ]
          },
          "metadata": {
            "tags": []
          },
          "execution_count": 5
        }
      ]
    },
    {
      "cell_type": "code",
      "metadata": {
        "id": "Emjkw5bHciJT",
        "colab": {
          "base_uri": "https://localhost:8080/"
        },
        "outputId": "c166a9d1-6486-49e4-bcef-70a6a5cab8d3"
      },
      "source": [
        "df.info()"
      ],
      "execution_count": 6,
      "outputs": [
        {
          "output_type": "stream",
          "text": [
            "<class 'pandas.core.frame.DataFrame'>\n",
            "RangeIndex: 255 entries, 0 to 254\n",
            "Data columns (total 10 columns):\n",
            " #   Column            Non-Null Count  Dtype  \n",
            "---  ------            --------------  -----  \n",
            " 0   Name              255 non-null    object \n",
            " 1   Ingradients       255 non-null    object \n",
            " 2   Diet              255 non-null    object \n",
            " 3   Preparation Time  225 non-null    float64\n",
            " 4   Cooking Time      227 non-null    float64\n",
            " 5   Flavor            226 non-null    object \n",
            " 6   Course            255 non-null    object \n",
            " 7   State             231 non-null    object \n",
            " 8   Region            241 non-null    object \n",
            " 9   Price/unit        255 non-null    int64  \n",
            "dtypes: float64(2), int64(1), object(7)\n",
            "memory usage: 20.0+ KB\n"
          ],
          "name": "stdout"
        }
      ]
    },
    {
      "cell_type": "code",
      "metadata": {
        "id": "HbB3S65c7QC0",
        "colab": {
          "base_uri": "https://localhost:8080/"
        },
        "outputId": "34949b35-7805-4f32-921a-8f3d96e85eef"
      },
      "source": [
        "#@unique values for given dataset\r\n",
        "df.nunique()"
      ],
      "execution_count": 7,
      "outputs": [
        {
          "output_type": "execute_result",
          "data": {
            "text/plain": [
              "Name                255\n",
              "Ingradients         252\n",
              "Diet                  2\n",
              "Preparation Time     21\n",
              "Cooking Time         18\n",
              "Flavor                4\n",
              "Course                4\n",
              "State                24\n",
              "Region                6\n",
              "Price/unit           64\n",
              "dtype: int64"
            ]
          },
          "metadata": {
            "tags": []
          },
          "execution_count": 7
        }
      ]
    },
    {
      "cell_type": "code",
      "metadata": {
        "id": "ki3csmT377lL",
        "colab": {
          "base_uri": "https://localhost:8080/",
          "height": 142
        },
        "outputId": "04910309-8ef2-45fd-dfc4-f6743b8bd8d5"
      },
      "source": [
        "# Showing Correlation among the Numeric Data\r\n",
        "df.corr()"
      ],
      "execution_count": 8,
      "outputs": [
        {
          "output_type": "execute_result",
          "data": {
            "text/html": [
              "<div>\n",
              "<style scoped>\n",
              "    .dataframe tbody tr th:only-of-type {\n",
              "        vertical-align: middle;\n",
              "    }\n",
              "\n",
              "    .dataframe tbody tr th {\n",
              "        vertical-align: top;\n",
              "    }\n",
              "\n",
              "    .dataframe thead th {\n",
              "        text-align: right;\n",
              "    }\n",
              "</style>\n",
              "<table border=\"1\" class=\"dataframe\">\n",
              "  <thead>\n",
              "    <tr style=\"text-align: right;\">\n",
              "      <th></th>\n",
              "      <th>Preparation Time</th>\n",
              "      <th>Cooking Time</th>\n",
              "      <th>Price/unit</th>\n",
              "    </tr>\n",
              "  </thead>\n",
              "  <tbody>\n",
              "    <tr>\n",
              "      <th>Preparation Time</th>\n",
              "      <td>1.00000</td>\n",
              "      <td>0.110780</td>\n",
              "      <td>-0.038180</td>\n",
              "    </tr>\n",
              "    <tr>\n",
              "      <th>Cooking Time</th>\n",
              "      <td>0.11078</td>\n",
              "      <td>1.000000</td>\n",
              "      <td>-0.002958</td>\n",
              "    </tr>\n",
              "    <tr>\n",
              "      <th>Price/unit</th>\n",
              "      <td>-0.03818</td>\n",
              "      <td>-0.002958</td>\n",
              "      <td>1.000000</td>\n",
              "    </tr>\n",
              "  </tbody>\n",
              "</table>\n",
              "</div>"
            ],
            "text/plain": [
              "                  Preparation Time  Cooking Time  Price/unit\n",
              "Preparation Time           1.00000      0.110780   -0.038180\n",
              "Cooking Time               0.11078      1.000000   -0.002958\n",
              "Price/unit                -0.03818     -0.002958    1.000000"
            ]
          },
          "metadata": {
            "tags": []
          },
          "execution_count": 8
        }
      ]
    },
    {
      "cell_type": "code",
      "metadata": {
        "id": "L4TNcmmO8Ed4",
        "colab": {
          "base_uri": "https://localhost:8080/",
          "height": 395
        },
        "outputId": "a4c28c34-0c07-45fb-f55a-467fb464b073"
      },
      "source": [
        "plt.figure(figsize=(8,6))\r\n",
        "sns.heatmap(df.corr())"
      ],
      "execution_count": 9,
      "outputs": [
        {
          "output_type": "execute_result",
          "data": {
            "text/plain": [
              "<matplotlib.axes._subplots.AxesSubplot at 0x7f3bde07c310>"
            ]
          },
          "metadata": {
            "tags": []
          },
          "execution_count": 9
        },
        {
          "output_type": "display_data",
          "data": {
            "image/png": "[encoded data removed]",
            "text/plain": [
              "<Figure size 576x432 with 2 Axes>"
            ]
          },
          "metadata": {
            "tags": [],
            "needs_background": "light"
          }
        }
      ]
    },
    {
      "cell_type": "code",
      "metadata": {
        "id": "RfV09FrW8M59",
        "colab": {
          "base_uri": "https://localhost:8080/",
          "height": 550
        },
        "outputId": "9aa0df98-1a40-455e-befd-9b25750aea0d"
      },
      "source": [
        "sns.pairplot(df)#let's take a look at the distributions.\r\n",
        "plt.show()"
      ],
      "execution_count": 10,
      "outputs": [
        {
          "output_type": "display_data",
          "data": {
            "image/png": "[encoded data removed]",
            "text/plain": [
              "<Figure size 540x540 with 12 Axes>"
            ]
          },
          "metadata": {
            "tags": [],
            "needs_background": "light"
          }
        }
      ]
    },
    {
      "cell_type": "markdown",
      "metadata": {
        "id": "JXW8qTfrZkaw"
      },
      "source": [
        "## Identifying the missing data"
      ]
    },
    {
      "cell_type": "code",
      "metadata": {
        "colab": {
          "base_uri": "https://localhost:8080/"
        },
        "id": "ebdANH08YMbb",
        "outputId": "558be24d-71e2-45da-e07a-dc58c3c04fc3"
      },
      "source": [
        "df.isnull().sum()"
      ],
      "execution_count": 11,
      "outputs": [
        {
          "output_type": "execute_result",
          "data": {
            "text/plain": [
              "Name                 0\n",
              "Ingradients          0\n",
              "Diet                 0\n",
              "Preparation Time    30\n",
              "Cooking Time        28\n",
              "Flavor              29\n",
              "Course               0\n",
              "State               24\n",
              "Region              14\n",
              "Price/unit           0\n",
              "dtype: int64"
            ]
          },
          "metadata": {
            "tags": []
          },
          "execution_count": 11
        }
      ]
    },
    {
      "cell_type": "markdown",
      "metadata": {
        "id": "kZr6mSnXZpWB"
      },
      "source": [
        "## Taking Care of Missing Data"
      ]
    },
    {
      "cell_type": "markdown",
      "metadata": {
        "id": "_w40icaeZxEP"
      },
      "source": [
        "### Handling the Categorical Features"
      ]
    },
    {
      "cell_type": "code",
      "metadata": {
        "id": "hrW9nUFsc34U",
        "colab": {
          "base_uri": "https://localhost:8080/",
          "height": 204
        },
        "outputId": "8017dca2-94cc-4b1a-d896-3fb87f06a2c6"
      },
      "source": [
        "from sklearn.impute import SimpleImputer\r\n",
        "df = pd.DataFrame(df)\r\n",
        "df = df.iloc[:,:].values\r\n",
        "imp = SimpleImputer(missing_values=np.nan, strategy='most_frequent')\r\n",
        "imp = imp.fit(df[:,5:9])\r\n",
        "df[:,5:9] = imp.transform(df[:,5:9])\r\n",
        "df=pd.DataFrame(df)\r\n",
        "df.head()"
      ],
      "execution_count": 12,
      "outputs": [
        {
          "output_type": "execute_result",
          "data": {
            "text/html": [
              "<div>\n",
              "<style scoped>\n",
              "    .dataframe tbody tr th:only-of-type {\n",
              "        vertical-align: middle;\n",
              "    }\n",
              "\n",
              "    .dataframe tbody tr th {\n",
              "        vertical-align: top;\n",
              "    }\n",
              "\n",
              "    .dataframe thead th {\n",
              "        text-align: right;\n",
              "    }\n",
              "</style>\n",
              "<table border=\"1\" class=\"dataframe\">\n",
              "  <thead>\n",
              "    <tr style=\"text-align: right;\">\n",
              "      <th></th>\n",
              "      <th>0</th>\n",
              "      <th>1</th>\n",
              "      <th>2</th>\n",
              "      <th>3</th>\n",
              "      <th>4</th>\n",
              "      <th>5</th>\n",
              "      <th>6</th>\n",
              "      <th>7</th>\n",
              "      <th>8</th>\n",
              "      <th>9</th>\n",
              "    </tr>\n",
              "  </thead>\n",
              "  <tbody>\n",
              "    <tr>\n",
              "      <th>0</th>\n",
              "      <td>Balu shahi</td>\n",
              "      <td>Maida flour, yogurt, oil, sugar</td>\n",
              "      <td>vegetarian</td>\n",
              "      <td>45</td>\n",
              "      <td>25</td>\n",
              "      <td>sweet</td>\n",
              "      <td>dessert</td>\n",
              "      <td>West Bengal</td>\n",
              "      <td>East</td>\n",
              "      <td>260</td>\n",
              "    </tr>\n",
              "    <tr>\n",
              "      <th>1</th>\n",
              "      <td>Boondi</td>\n",
              "      <td>Gram flour, ghee, sugar</td>\n",
              "      <td>vegetarian</td>\n",
              "      <td>80</td>\n",
              "      <td>30</td>\n",
              "      <td>sweet</td>\n",
              "      <td>dessert</td>\n",
              "      <td>Rajasthan</td>\n",
              "      <td>West</td>\n",
              "      <td>270</td>\n",
              "    </tr>\n",
              "    <tr>\n",
              "      <th>2</th>\n",
              "      <td>Gajar ka halwa</td>\n",
              "      <td>Carrots, milk, sugar, ghee, cashews, raisins</td>\n",
              "      <td>vegetarian</td>\n",
              "      <td>15</td>\n",
              "      <td>60</td>\n",
              "      <td>sweet</td>\n",
              "      <td>dessert</td>\n",
              "      <td>Punjab</td>\n",
              "      <td>North</td>\n",
              "      <td>450</td>\n",
              "    </tr>\n",
              "    <tr>\n",
              "      <th>3</th>\n",
              "      <td>Ghevar</td>\n",
              "      <td>Flour, ghee, kewra, milk, clarified butter, su...</td>\n",
              "      <td>vegetarian</td>\n",
              "      <td>15</td>\n",
              "      <td>30</td>\n",
              "      <td>sweet</td>\n",
              "      <td>dessert</td>\n",
              "      <td>Rajasthan</td>\n",
              "      <td>West</td>\n",
              "      <td>460</td>\n",
              "    </tr>\n",
              "    <tr>\n",
              "      <th>4</th>\n",
              "      <td>Gulab jamun</td>\n",
              "      <td>Milk powder, plain flour, baking powder, ghee,...</td>\n",
              "      <td>vegetarian</td>\n",
              "      <td>15</td>\n",
              "      <td>40</td>\n",
              "      <td>sweet</td>\n",
              "      <td>dessert</td>\n",
              "      <td>West Bengal</td>\n",
              "      <td>East</td>\n",
              "      <td>300</td>\n",
              "    </tr>\n",
              "  </tbody>\n",
              "</table>\n",
              "</div>"
            ],
            "text/plain": [
              "                0  ...    9\n",
              "0      Balu shahi  ...  260\n",
              "1          Boondi  ...  270\n",
              "2  Gajar ka halwa  ...  450\n",
              "3          Ghevar  ...  460\n",
              "4     Gulab jamun  ...  300\n",
              "\n",
              "[5 rows x 10 columns]"
            ]
          },
          "metadata": {
            "tags": []
          },
          "execution_count": 12
        }
      ]
    },
    {
      "cell_type": "markdown",
      "metadata": {
        "id": "_X01F7AvZ2JM"
      },
      "source": [
        "###Handling the numerical features"
      ]
    },
    {
      "cell_type": "code",
      "metadata": {
        "colab": {
          "base_uri": "https://localhost:8080/",
          "height": 204
        },
        "id": "8NeowJd-l6lE",
        "outputId": "7f7be5dc-0a17-4df2-d8e8-5f572467725d"
      },
      "source": [
        "df = df.iloc[:,:].values\r\n",
        "imp = SimpleImputer(missing_values=np.nan, strategy='mean')\r\n",
        "imp = imp.fit(df[:,3:5])\r\n",
        "df[:,3:5] = imp.transform(df[:,3:5])\r\n",
        "df=pd.DataFrame(df)\r\n",
        "df.head()"
      ],
      "execution_count": 13,
      "outputs": [
        {
          "output_type": "execute_result",
          "data": {
            "text/html": [
              "<div>\n",
              "<style scoped>\n",
              "    .dataframe tbody tr th:only-of-type {\n",
              "        vertical-align: middle;\n",
              "    }\n",
              "\n",
              "    .dataframe tbody tr th {\n",
              "        vertical-align: top;\n",
              "    }\n",
              "\n",
              "    .dataframe thead th {\n",
              "        text-align: right;\n",
              "    }\n",
              "</style>\n",
              "<table border=\"1\" class=\"dataframe\">\n",
              "  <thead>\n",
              "    <tr style=\"text-align: right;\">\n",
              "      <th></th>\n",
              "      <th>0</th>\n",
              "      <th>1</th>\n",
              "      <th>2</th>\n",
              "      <th>3</th>\n",
              "      <th>4</th>\n",
              "      <th>5</th>\n",
              "      <th>6</th>\n",
              "      <th>7</th>\n",
              "      <th>8</th>\n",
              "      <th>9</th>\n",
              "    </tr>\n",
              "  </thead>\n",
              "  <tbody>\n",
              "    <tr>\n",
              "      <th>0</th>\n",
              "      <td>Balu shahi</td>\n",
              "      <td>Maida flour, yogurt, oil, sugar</td>\n",
              "      <td>vegetarian</td>\n",
              "      <td>45</td>\n",
              "      <td>25</td>\n",
              "      <td>sweet</td>\n",
              "      <td>dessert</td>\n",
              "      <td>West Bengal</td>\n",
              "      <td>East</td>\n",
              "      <td>260</td>\n",
              "    </tr>\n",
              "    <tr>\n",
              "      <th>1</th>\n",
              "      <td>Boondi</td>\n",
              "      <td>Gram flour, ghee, sugar</td>\n",
              "      <td>vegetarian</td>\n",
              "      <td>80</td>\n",
              "      <td>30</td>\n",
              "      <td>sweet</td>\n",
              "      <td>dessert</td>\n",
              "      <td>Rajasthan</td>\n",
              "      <td>West</td>\n",
              "      <td>270</td>\n",
              "    </tr>\n",
              "    <tr>\n",
              "      <th>2</th>\n",
              "      <td>Gajar ka halwa</td>\n",
              "      <td>Carrots, milk, sugar, ghee, cashews, raisins</td>\n",
              "      <td>vegetarian</td>\n",
              "      <td>15</td>\n",
              "      <td>60</td>\n",
              "      <td>sweet</td>\n",
              "      <td>dessert</td>\n",
              "      <td>Punjab</td>\n",
              "      <td>North</td>\n",
              "      <td>450</td>\n",
              "    </tr>\n",
              "    <tr>\n",
              "      <th>3</th>\n",
              "      <td>Ghevar</td>\n",
              "      <td>Flour, ghee, kewra, milk, clarified butter, su...</td>\n",
              "      <td>vegetarian</td>\n",
              "      <td>15</td>\n",
              "      <td>30</td>\n",
              "      <td>sweet</td>\n",
              "      <td>dessert</td>\n",
              "      <td>Rajasthan</td>\n",
              "      <td>West</td>\n",
              "      <td>460</td>\n",
              "    </tr>\n",
              "    <tr>\n",
              "      <th>4</th>\n",
              "      <td>Gulab jamun</td>\n",
              "      <td>Milk powder, plain flour, baking powder, ghee,...</td>\n",
              "      <td>vegetarian</td>\n",
              "      <td>15</td>\n",
              "      <td>40</td>\n",
              "      <td>sweet</td>\n",
              "      <td>dessert</td>\n",
              "      <td>West Bengal</td>\n",
              "      <td>East</td>\n",
              "      <td>300</td>\n",
              "    </tr>\n",
              "  </tbody>\n",
              "</table>\n",
              "</div>"
            ],
            "text/plain": [
              "                0  ...    9\n",
              "0      Balu shahi  ...  260\n",
              "1          Boondi  ...  270\n",
              "2  Gajar ka halwa  ...  450\n",
              "3          Ghevar  ...  460\n",
              "4     Gulab jamun  ...  300\n",
              "\n",
              "[5 rows x 10 columns]"
            ]
          },
          "metadata": {
            "tags": []
          },
          "execution_count": 13
        }
      ]
    },
    {
      "cell_type": "markdown",
      "metadata": {
        "id": "eDGqneV6utZP"
      },
      "source": [
        "## Importing Basic NLP libraries and using it on **Ingredient** column"
      ]
    },
    {
      "cell_type": "code",
      "metadata": {
        "id": "4fRrINEmtSvi",
        "colab": {
          "base_uri": "https://localhost:8080/"
        },
        "outputId": "4a11b316-ef3c-4259-b18a-c499f93a9b2a"
      },
      "source": [
        "import nltk\r\n",
        "nltk.download('stopwords')\r\n",
        "from nltk.corpus import stopwords\r\n",
        "from nltk.stem.porter import PorterStemmer\r\n",
        "import re\r\n",
        "from bs4 import BeautifulSoup"
      ],
      "execution_count": 14,
      "outputs": [
        {
          "output_type": "stream",
          "text": [
            "[nltk_data] Downloading package stopwords to /root/nltk_data...\n",
            "[nltk_data]   Unzipping corpora/stopwords.zip.\n"
          ],
          "name": "stdout"
        }
      ]
    },
    {
      "cell_type": "markdown",
      "metadata": {
        "id": "m9yVgerLaUnN"
      },
      "source": [
        "### Cleaning the text data"
      ]
    },
    {
      "cell_type": "code",
      "metadata": {
        "id": "yOISUFMHnHJi"
      },
      "source": [
        "REPLACE_BY_SPACE_RE = re.compile('[/(){}\\[\\]\\|@,;]')\r\n",
        "BAD_SYMBOLS_RE = re.compile('[^0-9a-z #+_]')\r\n",
        "STOPWORDS = set(stopwords.words('english'))\r\n",
        "\r\n",
        "def clean_text(text):\r\n",
        "    \"\"\"\r\n",
        "        text: a string\r\n",
        "        \r\n",
        "        return: modified initial string\r\n",
        "    \"\"\"\r\n",
        "    text = BeautifulSoup(text, \"lxml\").text # HTML decoding\r\n",
        "    text = text.lower() # lowercase text\r\n",
        "    text = REPLACE_BY_SPACE_RE.sub(' ', text) # replace REPLACE_BY_SPACE_RE symbols by space in text\r\n",
        "    text = BAD_SYMBOLS_RE.sub('', text) # delete symbols which are in BAD_SYMBOLS_RE from text\r\n",
        "    text = ' '.join(word for word in text.split() if word not in STOPWORDS) # delete stopwors from text\r\n",
        "    ps = PorterStemmer()\r\n",
        "    text = ''.join([ps.stem(j) for j in text])\r\n",
        "\r\n",
        "    return text\r\n",
        "    \r\n",
        "df[1] = df[1].apply(clean_text)"
      ],
      "execution_count": 15,
      "outputs": []
    },
    {
      "cell_type": "code",
      "metadata": {
        "colab": {
          "base_uri": "https://localhost:8080/",
          "height": 204
        },
        "id": "9w1QvIv2qtev",
        "outputId": "90d3e065-7f4b-499c-d3b4-997b7064c07d"
      },
      "source": [
        "df.head()"
      ],
      "execution_count": 16,
      "outputs": [
        {
          "output_type": "execute_result",
          "data": {
            "text/html": [
              "<div>\n",
              "<style scoped>\n",
              "    .dataframe tbody tr th:only-of-type {\n",
              "        vertical-align: middle;\n",
              "    }\n",
              "\n",
              "    .dataframe tbody tr th {\n",
              "        vertical-align: top;\n",
              "    }\n",
              "\n",
              "    .dataframe thead th {\n",
              "        text-align: right;\n",
              "    }\n",
              "</style>\n",
              "<table border=\"1\" class=\"dataframe\">\n",
              "  <thead>\n",
              "    <tr style=\"text-align: right;\">\n",
              "      <th></th>\n",
              "      <th>0</th>\n",
              "      <th>1</th>\n",
              "      <th>2</th>\n",
              "      <th>3</th>\n",
              "      <th>4</th>\n",
              "      <th>5</th>\n",
              "      <th>6</th>\n",
              "      <th>7</th>\n",
              "      <th>8</th>\n",
              "      <th>9</th>\n",
              "    </tr>\n",
              "  </thead>\n",
              "  <tbody>\n",
              "    <tr>\n",
              "      <th>0</th>\n",
              "      <td>Balu shahi</td>\n",
              "      <td>maida flour yogurt oil sugar</td>\n",
              "      <td>vegetarian</td>\n",
              "      <td>45</td>\n",
              "      <td>25</td>\n",
              "      <td>sweet</td>\n",
              "      <td>dessert</td>\n",
              "      <td>West Bengal</td>\n",
              "      <td>East</td>\n",
              "      <td>260</td>\n",
              "    </tr>\n",
              "    <tr>\n",
              "      <th>1</th>\n",
              "      <td>Boondi</td>\n",
              "      <td>gram flour ghee sugar</td>\n",
              "      <td>vegetarian</td>\n",
              "      <td>80</td>\n",
              "      <td>30</td>\n",
              "      <td>sweet</td>\n",
              "      <td>dessert</td>\n",
              "      <td>Rajasthan</td>\n",
              "      <td>West</td>\n",
              "      <td>270</td>\n",
              "    </tr>\n",
              "    <tr>\n",
              "      <th>2</th>\n",
              "      <td>Gajar ka halwa</td>\n",
              "      <td>carrots milk sugar ghee cashews raisins</td>\n",
              "      <td>vegetarian</td>\n",
              "      <td>15</td>\n",
              "      <td>60</td>\n",
              "      <td>sweet</td>\n",
              "      <td>dessert</td>\n",
              "      <td>Punjab</td>\n",
              "      <td>North</td>\n",
              "      <td>450</td>\n",
              "    </tr>\n",
              "    <tr>\n",
              "      <th>3</th>\n",
              "      <td>Ghevar</td>\n",
              "      <td>flour ghee kewra milk clarified butter sugar a...</td>\n",
              "      <td>vegetarian</td>\n",
              "      <td>15</td>\n",
              "      <td>30</td>\n",
              "      <td>sweet</td>\n",
              "      <td>dessert</td>\n",
              "      <td>Rajasthan</td>\n",
              "      <td>West</td>\n",
              "      <td>460</td>\n",
              "    </tr>\n",
              "    <tr>\n",
              "      <th>4</th>\n",
              "      <td>Gulab jamun</td>\n",
              "      <td>milk powder plain flour baking powder ghee mil...</td>\n",
              "      <td>vegetarian</td>\n",
              "      <td>15</td>\n",
              "      <td>40</td>\n",
              "      <td>sweet</td>\n",
              "      <td>dessert</td>\n",
              "      <td>West Bengal</td>\n",
              "      <td>East</td>\n",
              "      <td>300</td>\n",
              "    </tr>\n",
              "  </tbody>\n",
              "</table>\n",
              "</div>"
            ],
            "text/plain": [
              "                0  ...    9\n",
              "0      Balu shahi  ...  260\n",
              "1          Boondi  ...  270\n",
              "2  Gajar ka halwa  ...  450\n",
              "3          Ghevar  ...  460\n",
              "4     Gulab jamun  ...  300\n",
              "\n",
              "[5 rows x 10 columns]"
            ]
          },
          "metadata": {
            "tags": []
          },
          "execution_count": 16
        }
      ]
    },
    {
      "cell_type": "markdown",
      "metadata": {
        "id": "rdk3pDjjwH6c"
      },
      "source": [
        "## Importing libraries to handle text"
      ]
    },
    {
      "cell_type": "code",
      "metadata": {
        "id": "RU5GHyIptGpO"
      },
      "source": [
        "import tensorflow as tf\r\n",
        "from tensorflow import keras\r\n",
        "from keras.preprocessing import text, sequence\r\n",
        "from keras import utils"
      ],
      "execution_count": 17,
      "outputs": []
    },
    {
      "cell_type": "markdown",
      "metadata": {
        "id": "oKzSDEL1ag0j"
      },
      "source": [
        "### Tokenizing the text data into matrix"
      ]
    },
    {
      "cell_type": "code",
      "metadata": {
        "id": "Dqw7GT5rc39e"
      },
      "source": [
        "tokenize = text.Tokenizer(char_level=False)\r\n",
        "tokenize.fit_on_texts(df[1]) # only fit on train\r\n",
        "\r\n",
        "temp = tokenize.texts_to_matrix(df[1])"
      ],
      "execution_count": 18,
      "outputs": []
    },
    {
      "cell_type": "code",
      "metadata": {
        "id": "i7eiX8H0c3_p",
        "colab": {
          "base_uri": "https://localhost:8080/",
          "height": 253
        },
        "outputId": "50173c11-ad1e-40bb-e90d-be5e38c108f0"
      },
      "source": [
        "temp = pd.DataFrame(temp)\r\n",
        "temp.head()"
      ],
      "execution_count": 19,
      "outputs": [
        {
          "output_type": "execute_result",
          "data": {
            "text/html": [
              "<div>\n",
              "<style scoped>\n",
              "    .dataframe tbody tr th:only-of-type {\n",
              "        vertical-align: middle;\n",
              "    }\n",
              "\n",
              "    .dataframe tbody tr th {\n",
              "        vertical-align: top;\n",
              "    }\n",
              "\n",
              "    .dataframe thead th {\n",
              "        text-align: right;\n",
              "    }\n",
              "</style>\n",
              "<table border=\"1\" class=\"dataframe\">\n",
              "  <thead>\n",
              "    <tr style=\"text-align: right;\">\n",
              "      <th></th>\n",
              "      <th>0</th>\n",
              "      <th>1</th>\n",
              "      <th>2</th>\n",
              "      <th>3</th>\n",
              "      <th>4</th>\n",
              "      <th>5</th>\n",
              "      <th>6</th>\n",
              "      <th>7</th>\n",
              "      <th>8</th>\n",
              "      <th>9</th>\n",
              "      <th>10</th>\n",
              "      <th>11</th>\n",
              "      <th>12</th>\n",
              "      <th>13</th>\n",
              "      <th>14</th>\n",
              "      <th>15</th>\n",
              "      <th>16</th>\n",
              "      <th>17</th>\n",
              "      <th>18</th>\n",
              "      <th>19</th>\n",
              "      <th>20</th>\n",
              "      <th>21</th>\n",
              "      <th>22</th>\n",
              "      <th>23</th>\n",
              "      <th>24</th>\n",
              "      <th>25</th>\n",
              "      <th>26</th>\n",
              "      <th>27</th>\n",
              "      <th>28</th>\n",
              "      <th>29</th>\n",
              "      <th>30</th>\n",
              "      <th>31</th>\n",
              "      <th>32</th>\n",
              "      <th>33</th>\n",
              "      <th>34</th>\n",
              "      <th>35</th>\n",
              "      <th>36</th>\n",
              "      <th>37</th>\n",
              "      <th>38</th>\n",
              "      <th>39</th>\n",
              "      <th>...</th>\n",
              "      <th>296</th>\n",
              "      <th>297</th>\n",
              "      <th>298</th>\n",
              "      <th>299</th>\n",
              "      <th>300</th>\n",
              "      <th>301</th>\n",
              "      <th>302</th>\n",
              "      <th>303</th>\n",
              "      <th>304</th>\n",
              "      <th>305</th>\n",
              "      <th>306</th>\n",
              "      <th>307</th>\n",
              "      <th>308</th>\n",
              "      <th>309</th>\n",
              "      <th>310</th>\n",
              "      <th>311</th>\n",
              "      <th>312</th>\n",
              "      <th>313</th>\n",
              "      <th>314</th>\n",
              "      <th>315</th>\n",
              "      <th>316</th>\n",
              "      <th>317</th>\n",
              "      <th>318</th>\n",
              "      <th>319</th>\n",
              "      <th>320</th>\n",
              "      <th>321</th>\n",
              "      <th>322</th>\n",
              "      <th>323</th>\n",
              "      <th>324</th>\n",
              "      <th>325</th>\n",
              "      <th>326</th>\n",
              "      <th>327</th>\n",
              "      <th>328</th>\n",
              "      <th>329</th>\n",
              "      <th>330</th>\n",
              "      <th>331</th>\n",
              "      <th>332</th>\n",
              "      <th>333</th>\n",
              "      <th>334</th>\n",
              "      <th>335</th>\n",
              "    </tr>\n",
              "  </thead>\n",
              "  <tbody>\n",
              "    <tr>\n",
              "      <th>0</th>\n",
              "      <td>0.0</td>\n",
              "      <td>1.0</td>\n",
              "      <td>0.0</td>\n",
              "      <td>1.0</td>\n",
              "      <td>0.0</td>\n",
              "      <td>0.0</td>\n",
              "      <td>1.0</td>\n",
              "      <td>0.0</td>\n",
              "      <td>0.0</td>\n",
              "      <td>0.0</td>\n",
              "      <td>0.0</td>\n",
              "      <td>0.0</td>\n",
              "      <td>0.0</td>\n",
              "      <td>0.0</td>\n",
              "      <td>0.0</td>\n",
              "      <td>0.0</td>\n",
              "      <td>0.0</td>\n",
              "      <td>0.0</td>\n",
              "      <td>0.0</td>\n",
              "      <td>0.0</td>\n",
              "      <td>0.0</td>\n",
              "      <td>0.0</td>\n",
              "      <td>0.0</td>\n",
              "      <td>0.0</td>\n",
              "      <td>0.0</td>\n",
              "      <td>0.0</td>\n",
              "      <td>0.0</td>\n",
              "      <td>0.0</td>\n",
              "      <td>0.0</td>\n",
              "      <td>0.0</td>\n",
              "      <td>0.0</td>\n",
              "      <td>0.0</td>\n",
              "      <td>0.0</td>\n",
              "      <td>0.0</td>\n",
              "      <td>0.0</td>\n",
              "      <td>0.0</td>\n",
              "      <td>1.0</td>\n",
              "      <td>0.0</td>\n",
              "      <td>0.0</td>\n",
              "      <td>0.0</td>\n",
              "      <td>...</td>\n",
              "      <td>0.0</td>\n",
              "      <td>0.0</td>\n",
              "      <td>0.0</td>\n",
              "      <td>0.0</td>\n",
              "      <td>0.0</td>\n",
              "      <td>0.0</td>\n",
              "      <td>0.0</td>\n",
              "      <td>0.0</td>\n",
              "      <td>0.0</td>\n",
              "      <td>0.0</td>\n",
              "      <td>0.0</td>\n",
              "      <td>0.0</td>\n",
              "      <td>0.0</td>\n",
              "      <td>0.0</td>\n",
              "      <td>0.0</td>\n",
              "      <td>0.0</td>\n",
              "      <td>0.0</td>\n",
              "      <td>0.0</td>\n",
              "      <td>0.0</td>\n",
              "      <td>0.0</td>\n",
              "      <td>0.0</td>\n",
              "      <td>0.0</td>\n",
              "      <td>0.0</td>\n",
              "      <td>0.0</td>\n",
              "      <td>0.0</td>\n",
              "      <td>0.0</td>\n",
              "      <td>0.0</td>\n",
              "      <td>0.0</td>\n",
              "      <td>0.0</td>\n",
              "      <td>0.0</td>\n",
              "      <td>0.0</td>\n",
              "      <td>0.0</td>\n",
              "      <td>0.0</td>\n",
              "      <td>0.0</td>\n",
              "      <td>0.0</td>\n",
              "      <td>0.0</td>\n",
              "      <td>0.0</td>\n",
              "      <td>0.0</td>\n",
              "      <td>0.0</td>\n",
              "      <td>0.0</td>\n",
              "    </tr>\n",
              "    <tr>\n",
              "      <th>1</th>\n",
              "      <td>0.0</td>\n",
              "      <td>1.0</td>\n",
              "      <td>0.0</td>\n",
              "      <td>1.0</td>\n",
              "      <td>0.0</td>\n",
              "      <td>0.0</td>\n",
              "      <td>0.0</td>\n",
              "      <td>0.0</td>\n",
              "      <td>0.0</td>\n",
              "      <td>0.0</td>\n",
              "      <td>0.0</td>\n",
              "      <td>0.0</td>\n",
              "      <td>0.0</td>\n",
              "      <td>0.0</td>\n",
              "      <td>0.0</td>\n",
              "      <td>0.0</td>\n",
              "      <td>0.0</td>\n",
              "      <td>0.0</td>\n",
              "      <td>0.0</td>\n",
              "      <td>1.0</td>\n",
              "      <td>0.0</td>\n",
              "      <td>1.0</td>\n",
              "      <td>0.0</td>\n",
              "      <td>0.0</td>\n",
              "      <td>0.0</td>\n",
              "      <td>0.0</td>\n",
              "      <td>0.0</td>\n",
              "      <td>0.0</td>\n",
              "      <td>0.0</td>\n",
              "      <td>0.0</td>\n",
              "      <td>0.0</td>\n",
              "      <td>0.0</td>\n",
              "      <td>0.0</td>\n",
              "      <td>0.0</td>\n",
              "      <td>0.0</td>\n",
              "      <td>0.0</td>\n",
              "      <td>0.0</td>\n",
              "      <td>0.0</td>\n",
              "      <td>0.0</td>\n",
              "      <td>0.0</td>\n",
              "      <td>...</td>\n",
              "      <td>0.0</td>\n",
              "      <td>0.0</td>\n",
              "      <td>0.0</td>\n",
              "      <td>0.0</td>\n",
              "      <td>0.0</td>\n",
              "      <td>0.0</td>\n",
              "      <td>0.0</td>\n",
              "      <td>0.0</td>\n",
              "      <td>0.0</td>\n",
              "      <td>0.0</td>\n",
              "      <td>0.0</td>\n",
              "      <td>0.0</td>\n",
              "      <td>0.0</td>\n",
              "      <td>0.0</td>\n",
              "      <td>0.0</td>\n",
              "      <td>0.0</td>\n",
              "      <td>0.0</td>\n",
              "      <td>0.0</td>\n",
              "      <td>0.0</td>\n",
              "      <td>0.0</td>\n",
              "      <td>0.0</td>\n",
              "      <td>0.0</td>\n",
              "      <td>0.0</td>\n",
              "      <td>0.0</td>\n",
              "      <td>0.0</td>\n",
              "      <td>0.0</td>\n",
              "      <td>0.0</td>\n",
              "      <td>0.0</td>\n",
              "      <td>0.0</td>\n",
              "      <td>0.0</td>\n",
              "      <td>0.0</td>\n",
              "      <td>0.0</td>\n",
              "      <td>0.0</td>\n",
              "      <td>0.0</td>\n",
              "      <td>0.0</td>\n",
              "      <td>0.0</td>\n",
              "      <td>0.0</td>\n",
              "      <td>0.0</td>\n",
              "      <td>0.0</td>\n",
              "      <td>0.0</td>\n",
              "    </tr>\n",
              "    <tr>\n",
              "      <th>2</th>\n",
              "      <td>0.0</td>\n",
              "      <td>0.0</td>\n",
              "      <td>0.0</td>\n",
              "      <td>1.0</td>\n",
              "      <td>0.0</td>\n",
              "      <td>0.0</td>\n",
              "      <td>0.0</td>\n",
              "      <td>0.0</td>\n",
              "      <td>0.0</td>\n",
              "      <td>0.0</td>\n",
              "      <td>1.0</td>\n",
              "      <td>0.0</td>\n",
              "      <td>0.0</td>\n",
              "      <td>0.0</td>\n",
              "      <td>0.0</td>\n",
              "      <td>0.0</td>\n",
              "      <td>0.0</td>\n",
              "      <td>0.0</td>\n",
              "      <td>0.0</td>\n",
              "      <td>1.0</td>\n",
              "      <td>0.0</td>\n",
              "      <td>0.0</td>\n",
              "      <td>0.0</td>\n",
              "      <td>0.0</td>\n",
              "      <td>0.0</td>\n",
              "      <td>0.0</td>\n",
              "      <td>0.0</td>\n",
              "      <td>0.0</td>\n",
              "      <td>0.0</td>\n",
              "      <td>0.0</td>\n",
              "      <td>0.0</td>\n",
              "      <td>0.0</td>\n",
              "      <td>0.0</td>\n",
              "      <td>0.0</td>\n",
              "      <td>0.0</td>\n",
              "      <td>0.0</td>\n",
              "      <td>0.0</td>\n",
              "      <td>0.0</td>\n",
              "      <td>0.0</td>\n",
              "      <td>0.0</td>\n",
              "      <td>...</td>\n",
              "      <td>0.0</td>\n",
              "      <td>0.0</td>\n",
              "      <td>0.0</td>\n",
              "      <td>0.0</td>\n",
              "      <td>0.0</td>\n",
              "      <td>0.0</td>\n",
              "      <td>0.0</td>\n",
              "      <td>0.0</td>\n",
              "      <td>0.0</td>\n",
              "      <td>0.0</td>\n",
              "      <td>0.0</td>\n",
              "      <td>0.0</td>\n",
              "      <td>0.0</td>\n",
              "      <td>0.0</td>\n",
              "      <td>0.0</td>\n",
              "      <td>0.0</td>\n",
              "      <td>0.0</td>\n",
              "      <td>0.0</td>\n",
              "      <td>0.0</td>\n",
              "      <td>0.0</td>\n",
              "      <td>0.0</td>\n",
              "      <td>0.0</td>\n",
              "      <td>0.0</td>\n",
              "      <td>0.0</td>\n",
              "      <td>0.0</td>\n",
              "      <td>0.0</td>\n",
              "      <td>0.0</td>\n",
              "      <td>0.0</td>\n",
              "      <td>0.0</td>\n",
              "      <td>0.0</td>\n",
              "      <td>0.0</td>\n",
              "      <td>0.0</td>\n",
              "      <td>0.0</td>\n",
              "      <td>0.0</td>\n",
              "      <td>0.0</td>\n",
              "      <td>0.0</td>\n",
              "      <td>0.0</td>\n",
              "      <td>0.0</td>\n",
              "      <td>0.0</td>\n",
              "      <td>0.0</td>\n",
              "    </tr>\n",
              "    <tr>\n",
              "      <th>3</th>\n",
              "      <td>0.0</td>\n",
              "      <td>1.0</td>\n",
              "      <td>0.0</td>\n",
              "      <td>1.0</td>\n",
              "      <td>0.0</td>\n",
              "      <td>0.0</td>\n",
              "      <td>0.0</td>\n",
              "      <td>0.0</td>\n",
              "      <td>0.0</td>\n",
              "      <td>1.0</td>\n",
              "      <td>1.0</td>\n",
              "      <td>0.0</td>\n",
              "      <td>0.0</td>\n",
              "      <td>0.0</td>\n",
              "      <td>0.0</td>\n",
              "      <td>0.0</td>\n",
              "      <td>0.0</td>\n",
              "      <td>0.0</td>\n",
              "      <td>0.0</td>\n",
              "      <td>1.0</td>\n",
              "      <td>0.0</td>\n",
              "      <td>0.0</td>\n",
              "      <td>0.0</td>\n",
              "      <td>0.0</td>\n",
              "      <td>0.0</td>\n",
              "      <td>0.0</td>\n",
              "      <td>1.0</td>\n",
              "      <td>0.0</td>\n",
              "      <td>0.0</td>\n",
              "      <td>1.0</td>\n",
              "      <td>0.0</td>\n",
              "      <td>0.0</td>\n",
              "      <td>0.0</td>\n",
              "      <td>0.0</td>\n",
              "      <td>0.0</td>\n",
              "      <td>0.0</td>\n",
              "      <td>0.0</td>\n",
              "      <td>0.0</td>\n",
              "      <td>0.0</td>\n",
              "      <td>0.0</td>\n",
              "      <td>...</td>\n",
              "      <td>0.0</td>\n",
              "      <td>0.0</td>\n",
              "      <td>0.0</td>\n",
              "      <td>0.0</td>\n",
              "      <td>0.0</td>\n",
              "      <td>0.0</td>\n",
              "      <td>0.0</td>\n",
              "      <td>0.0</td>\n",
              "      <td>0.0</td>\n",
              "      <td>0.0</td>\n",
              "      <td>0.0</td>\n",
              "      <td>0.0</td>\n",
              "      <td>0.0</td>\n",
              "      <td>0.0</td>\n",
              "      <td>0.0</td>\n",
              "      <td>0.0</td>\n",
              "      <td>0.0</td>\n",
              "      <td>0.0</td>\n",
              "      <td>0.0</td>\n",
              "      <td>0.0</td>\n",
              "      <td>0.0</td>\n",
              "      <td>0.0</td>\n",
              "      <td>0.0</td>\n",
              "      <td>0.0</td>\n",
              "      <td>0.0</td>\n",
              "      <td>0.0</td>\n",
              "      <td>0.0</td>\n",
              "      <td>0.0</td>\n",
              "      <td>0.0</td>\n",
              "      <td>0.0</td>\n",
              "      <td>0.0</td>\n",
              "      <td>0.0</td>\n",
              "      <td>0.0</td>\n",
              "      <td>0.0</td>\n",
              "      <td>0.0</td>\n",
              "      <td>0.0</td>\n",
              "      <td>0.0</td>\n",
              "      <td>0.0</td>\n",
              "      <td>0.0</td>\n",
              "      <td>0.0</td>\n",
              "    </tr>\n",
              "    <tr>\n",
              "      <th>4</th>\n",
              "      <td>0.0</td>\n",
              "      <td>1.0</td>\n",
              "      <td>0.0</td>\n",
              "      <td>1.0</td>\n",
              "      <td>0.0</td>\n",
              "      <td>0.0</td>\n",
              "      <td>0.0</td>\n",
              "      <td>0.0</td>\n",
              "      <td>0.0</td>\n",
              "      <td>0.0</td>\n",
              "      <td>1.0</td>\n",
              "      <td>1.0</td>\n",
              "      <td>0.0</td>\n",
              "      <td>0.0</td>\n",
              "      <td>0.0</td>\n",
              "      <td>0.0</td>\n",
              "      <td>0.0</td>\n",
              "      <td>0.0</td>\n",
              "      <td>0.0</td>\n",
              "      <td>1.0</td>\n",
              "      <td>0.0</td>\n",
              "      <td>0.0</td>\n",
              "      <td>0.0</td>\n",
              "      <td>0.0</td>\n",
              "      <td>0.0</td>\n",
              "      <td>0.0</td>\n",
              "      <td>0.0</td>\n",
              "      <td>0.0</td>\n",
              "      <td>0.0</td>\n",
              "      <td>0.0</td>\n",
              "      <td>0.0</td>\n",
              "      <td>0.0</td>\n",
              "      <td>0.0</td>\n",
              "      <td>0.0</td>\n",
              "      <td>1.0</td>\n",
              "      <td>0.0</td>\n",
              "      <td>0.0</td>\n",
              "      <td>0.0</td>\n",
              "      <td>0.0</td>\n",
              "      <td>0.0</td>\n",
              "      <td>...</td>\n",
              "      <td>0.0</td>\n",
              "      <td>0.0</td>\n",
              "      <td>0.0</td>\n",
              "      <td>0.0</td>\n",
              "      <td>0.0</td>\n",
              "      <td>0.0</td>\n",
              "      <td>0.0</td>\n",
              "      <td>0.0</td>\n",
              "      <td>0.0</td>\n",
              "      <td>0.0</td>\n",
              "      <td>0.0</td>\n",
              "      <td>0.0</td>\n",
              "      <td>0.0</td>\n",
              "      <td>0.0</td>\n",
              "      <td>0.0</td>\n",
              "      <td>0.0</td>\n",
              "      <td>0.0</td>\n",
              "      <td>0.0</td>\n",
              "      <td>0.0</td>\n",
              "      <td>0.0</td>\n",
              "      <td>0.0</td>\n",
              "      <td>0.0</td>\n",
              "      <td>0.0</td>\n",
              "      <td>0.0</td>\n",
              "      <td>0.0</td>\n",
              "      <td>0.0</td>\n",
              "      <td>0.0</td>\n",
              "      <td>0.0</td>\n",
              "      <td>0.0</td>\n",
              "      <td>0.0</td>\n",
              "      <td>0.0</td>\n",
              "      <td>0.0</td>\n",
              "      <td>0.0</td>\n",
              "      <td>0.0</td>\n",
              "      <td>0.0</td>\n",
              "      <td>0.0</td>\n",
              "      <td>0.0</td>\n",
              "      <td>0.0</td>\n",
              "      <td>0.0</td>\n",
              "      <td>0.0</td>\n",
              "    </tr>\n",
              "  </tbody>\n",
              "</table>\n",
              "<p>5 rows × 336 columns</p>\n",
              "</div>"
            ],
            "text/plain": [
              "   0    1    2    3    4    5    6    ...  329  330  331  332  333  334  335\n",
              "0  0.0  1.0  0.0  1.0  0.0  0.0  1.0  ...  0.0  0.0  0.0  0.0  0.0  0.0  0.0\n",
              "1  0.0  1.0  0.0  1.0  0.0  0.0  0.0  ...  0.0  0.0  0.0  0.0  0.0  0.0  0.0\n",
              "2  0.0  0.0  0.0  1.0  0.0  0.0  0.0  ...  0.0  0.0  0.0  0.0  0.0  0.0  0.0\n",
              "3  0.0  1.0  0.0  1.0  0.0  0.0  0.0  ...  0.0  0.0  0.0  0.0  0.0  0.0  0.0\n",
              "4  0.0  1.0  0.0  1.0  0.0  0.0  0.0  ...  0.0  0.0  0.0  0.0  0.0  0.0  0.0\n",
              "\n",
              "[5 rows x 336 columns]"
            ]
          },
          "metadata": {
            "tags": []
          },
          "execution_count": 19
        }
      ]
    },
    {
      "cell_type": "code",
      "metadata": {
        "id": "Y-nyehKvu_iC"
      },
      "source": [
        "from sklearn.preprocessing import OneHotEncoder\r\n",
        "from sklearn.compose import ColumnTransformer\r\n",
        "from sklearn.preprocessing import StandardScaler"
      ],
      "execution_count": 20,
      "outputs": []
    },
    {
      "cell_type": "code",
      "metadata": {
        "colab": {
          "base_uri": "https://localhost:8080/",
          "height": 204
        },
        "id": "kDbeDJqxtb8J",
        "outputId": "397ce287-5b72-43b9-b72f-532e940e825e"
      },
      "source": [
        "df.head()"
      ],
      "execution_count": 21,
      "outputs": [
        {
          "output_type": "execute_result",
          "data": {
            "text/html": [
              "<div>\n",
              "<style scoped>\n",
              "    .dataframe tbody tr th:only-of-type {\n",
              "        vertical-align: middle;\n",
              "    }\n",
              "\n",
              "    .dataframe tbody tr th {\n",
              "        vertical-align: top;\n",
              "    }\n",
              "\n",
              "    .dataframe thead th {\n",
              "        text-align: right;\n",
              "    }\n",
              "</style>\n",
              "<table border=\"1\" class=\"dataframe\">\n",
              "  <thead>\n",
              "    <tr style=\"text-align: right;\">\n",
              "      <th></th>\n",
              "      <th>0</th>\n",
              "      <th>1</th>\n",
              "      <th>2</th>\n",
              "      <th>3</th>\n",
              "      <th>4</th>\n",
              "      <th>5</th>\n",
              "      <th>6</th>\n",
              "      <th>7</th>\n",
              "      <th>8</th>\n",
              "      <th>9</th>\n",
              "    </tr>\n",
              "  </thead>\n",
              "  <tbody>\n",
              "    <tr>\n",
              "      <th>0</th>\n",
              "      <td>Balu shahi</td>\n",
              "      <td>maida flour yogurt oil sugar</td>\n",
              "      <td>vegetarian</td>\n",
              "      <td>45</td>\n",
              "      <td>25</td>\n",
              "      <td>sweet</td>\n",
              "      <td>dessert</td>\n",
              "      <td>West Bengal</td>\n",
              "      <td>East</td>\n",
              "      <td>260</td>\n",
              "    </tr>\n",
              "    <tr>\n",
              "      <th>1</th>\n",
              "      <td>Boondi</td>\n",
              "      <td>gram flour ghee sugar</td>\n",
              "      <td>vegetarian</td>\n",
              "      <td>80</td>\n",
              "      <td>30</td>\n",
              "      <td>sweet</td>\n",
              "      <td>dessert</td>\n",
              "      <td>Rajasthan</td>\n",
              "      <td>West</td>\n",
              "      <td>270</td>\n",
              "    </tr>\n",
              "    <tr>\n",
              "      <th>2</th>\n",
              "      <td>Gajar ka halwa</td>\n",
              "      <td>carrots milk sugar ghee cashews raisins</td>\n",
              "      <td>vegetarian</td>\n",
              "      <td>15</td>\n",
              "      <td>60</td>\n",
              "      <td>sweet</td>\n",
              "      <td>dessert</td>\n",
              "      <td>Punjab</td>\n",
              "      <td>North</td>\n",
              "      <td>450</td>\n",
              "    </tr>\n",
              "    <tr>\n",
              "      <th>3</th>\n",
              "      <td>Ghevar</td>\n",
              "      <td>flour ghee kewra milk clarified butter sugar a...</td>\n",
              "      <td>vegetarian</td>\n",
              "      <td>15</td>\n",
              "      <td>30</td>\n",
              "      <td>sweet</td>\n",
              "      <td>dessert</td>\n",
              "      <td>Rajasthan</td>\n",
              "      <td>West</td>\n",
              "      <td>460</td>\n",
              "    </tr>\n",
              "    <tr>\n",
              "      <th>4</th>\n",
              "      <td>Gulab jamun</td>\n",
              "      <td>milk powder plain flour baking powder ghee mil...</td>\n",
              "      <td>vegetarian</td>\n",
              "      <td>15</td>\n",
              "      <td>40</td>\n",
              "      <td>sweet</td>\n",
              "      <td>dessert</td>\n",
              "      <td>West Bengal</td>\n",
              "      <td>East</td>\n",
              "      <td>300</td>\n",
              "    </tr>\n",
              "  </tbody>\n",
              "</table>\n",
              "</div>"
            ],
            "text/plain": [
              "                0  ...    9\n",
              "0      Balu shahi  ...  260\n",
              "1          Boondi  ...  270\n",
              "2  Gajar ka halwa  ...  450\n",
              "3          Ghevar  ...  460\n",
              "4     Gulab jamun  ...  300\n",
              "\n",
              "[5 rows x 10 columns]"
            ]
          },
          "metadata": {
            "tags": []
          },
          "execution_count": 21
        }
      ]
    },
    {
      "cell_type": "markdown",
      "metadata": {
        "id": "ZSdf9BxzwVXs"
      },
      "source": [
        "## Encoding the Categorical Data"
      ]
    },
    {
      "cell_type": "code",
      "metadata": {
        "id": "fY1QiTEc208H"
      },
      "source": [
        "d1 = pd.get_dummies(df[2])\r\n",
        "d2 = pd.get_dummies(df[7])\r\n",
        "d3 = pd.get_dummies(df[8])\r\n",
        "d4 = pd.get_dummies(df[5])\r\n",
        "d5 = pd.get_dummies(df[6])"
      ],
      "execution_count": 22,
      "outputs": []
    },
    {
      "cell_type": "code",
      "metadata": {
        "colab": {
          "base_uri": "https://localhost:8080/",
          "height": 204
        },
        "id": "xtJ8XySS56gQ",
        "outputId": "d586f094-bebb-4b4f-a279-72450d78f63a"
      },
      "source": [
        "d1.head()"
      ],
      "execution_count": 23,
      "outputs": [
        {
          "output_type": "execute_result",
          "data": {
            "text/html": [
              "<div>\n",
              "<style scoped>\n",
              "    .dataframe tbody tr th:only-of-type {\n",
              "        vertical-align: middle;\n",
              "    }\n",
              "\n",
              "    .dataframe tbody tr th {\n",
              "        vertical-align: top;\n",
              "    }\n",
              "\n",
              "    .dataframe thead th {\n",
              "        text-align: right;\n",
              "    }\n",
              "</style>\n",
              "<table border=\"1\" class=\"dataframe\">\n",
              "  <thead>\n",
              "    <tr style=\"text-align: right;\">\n",
              "      <th></th>\n",
              "      <th>non vegetarian</th>\n",
              "      <th>vegetarian</th>\n",
              "    </tr>\n",
              "  </thead>\n",
              "  <tbody>\n",
              "    <tr>\n",
              "      <th>0</th>\n",
              "      <td>0</td>\n",
              "      <td>1</td>\n",
              "    </tr>\n",
              "    <tr>\n",
              "      <th>1</th>\n",
              "      <td>0</td>\n",
              "      <td>1</td>\n",
              "    </tr>\n",
              "    <tr>\n",
              "      <th>2</th>\n",
              "      <td>0</td>\n",
              "      <td>1</td>\n",
              "    </tr>\n",
              "    <tr>\n",
              "      <th>3</th>\n",
              "      <td>0</td>\n",
              "      <td>1</td>\n",
              "    </tr>\n",
              "    <tr>\n",
              "      <th>4</th>\n",
              "      <td>0</td>\n",
              "      <td>1</td>\n",
              "    </tr>\n",
              "  </tbody>\n",
              "</table>\n",
              "</div>"
            ],
            "text/plain": [
              "   non vegetarian  vegetarian\n",
              "0               0           1\n",
              "1               0           1\n",
              "2               0           1\n",
              "3               0           1\n",
              "4               0           1"
            ]
          },
          "metadata": {
            "tags": []
          },
          "execution_count": 23
        }
      ]
    },
    {
      "cell_type": "markdown",
      "metadata": {
        "id": "7cy64C5JcRK9"
      },
      "source": [
        "### Getting value counts for classes in Flavor"
      ]
    },
    {
      "cell_type": "code",
      "metadata": {
        "colab": {
          "base_uri": "https://localhost:8080/"
        },
        "id": "9bf_s42jybI_",
        "outputId": "02e947c7-94d4-4e53-85c9-abc97bd53fb5"
      },
      "source": [
        "df[5].value_counts()"
      ],
      "execution_count": 24,
      "outputs": [
        {
          "output_type": "execute_result",
          "data": {
            "text/plain": [
              "spicy     162\n",
              "sweet      88\n",
              "bitter      4\n",
              "sour        1\n",
              "Name: 5, dtype: int64"
            ]
          },
          "metadata": {
            "tags": []
          },
          "execution_count": 24
        }
      ]
    },
    {
      "cell_type": "markdown",
      "metadata": {
        "id": "H562csHucYiO"
      },
      "source": [
        "### Getting value counts for classes in Food Course Type"
      ]
    },
    {
      "cell_type": "code",
      "metadata": {
        "colab": {
          "base_uri": "https://localhost:8080/"
        },
        "id": "4Kofva6K95Dw",
        "outputId": "231f89c1-56bd-4a91-81c7-654d6e3d28b5"
      },
      "source": [
        "df[6].value_counts()"
      ],
      "execution_count": 25,
      "outputs": [
        {
          "output_type": "execute_result",
          "data": {
            "text/plain": [
              "main course    129\n",
              "dessert         85\n",
              "snack           39\n",
              "starter          2\n",
              "Name: 6, dtype: int64"
            ]
          },
          "metadata": {
            "tags": []
          },
          "execution_count": 25
        }
      ]
    },
    {
      "cell_type": "markdown",
      "metadata": {
        "id": "AyuAe2yq0zC-"
      },
      "source": [
        "#CLASSIFICATION OF FOOD COURSE TYPE"
      ]
    },
    {
      "cell_type": "markdown",
      "metadata": {
        "id": "xTe3olNZcjH-"
      },
      "source": [
        "### Concatenating the encoded categorical features and tokenized text matrix"
      ]
    },
    {
      "cell_type": "code",
      "metadata": {
        "colab": {
          "base_uri": "https://localhost:8080/",
          "height": 712
        },
        "id": "Mw2rILHixUtE",
        "outputId": "496e9def-f324-44fe-8bb8-bc2e0d4c97e3"
      },
      "source": [
        "y = df[6]\r\n",
        "df1 = pd.concat([df,d1,d2,d3,d4,temp], axis=1)\r\n",
        "df1.head()"
      ],
      "execution_count": 26,
      "outputs": [
        {
          "output_type": "execute_result",
          "data": {
            "text/html": [
              "<div>\n",
              "<style scoped>\n",
              "    .dataframe tbody tr th:only-of-type {\n",
              "        vertical-align: middle;\n",
              "    }\n",
              "\n",
              "    .dataframe tbody tr th {\n",
              "        vertical-align: top;\n",
              "    }\n",
              "\n",
              "    .dataframe thead th {\n",
              "        text-align: right;\n",
              "    }\n",
              "</style>\n",
              "<table border=\"1\" class=\"dataframe\">\n",
              "  <thead>\n",
              "    <tr style=\"text-align: right;\">\n",
              "      <th></th>\n",
              "      <th>0</th>\n",
              "      <th>1</th>\n",
              "      <th>2</th>\n",
              "      <th>3</th>\n",
              "      <th>4</th>\n",
              "      <th>5</th>\n",
              "      <th>6</th>\n",
              "      <th>7</th>\n",
              "      <th>8</th>\n",
              "      <th>9</th>\n",
              "      <th>non vegetarian</th>\n",
              "      <th>vegetarian</th>\n",
              "      <th>Andhra Pradesh</th>\n",
              "      <th>Assam</th>\n",
              "      <th>Bihar</th>\n",
              "      <th>Chhattisgarh</th>\n",
              "      <th>Goa</th>\n",
              "      <th>Gujarat</th>\n",
              "      <th>Haryana</th>\n",
              "      <th>Jammu &amp; Kashmir</th>\n",
              "      <th>Karnataka</th>\n",
              "      <th>Kerala</th>\n",
              "      <th>Madhya Pradesh</th>\n",
              "      <th>Maharashtra</th>\n",
              "      <th>Manipur</th>\n",
              "      <th>NCT of Delhi</th>\n",
              "      <th>Nagaland</th>\n",
              "      <th>Odisha</th>\n",
              "      <th>Punjab</th>\n",
              "      <th>Rajasthan</th>\n",
              "      <th>Tamil Nadu</th>\n",
              "      <th>Telangana</th>\n",
              "      <th>Tripura</th>\n",
              "      <th>Uttar Pradesh</th>\n",
              "      <th>Uttarakhand</th>\n",
              "      <th>West Bengal</th>\n",
              "      <th>Central</th>\n",
              "      <th>East</th>\n",
              "      <th>North</th>\n",
              "      <th>North East</th>\n",
              "      <th>...</th>\n",
              "      <th>296</th>\n",
              "      <th>297</th>\n",
              "      <th>298</th>\n",
              "      <th>299</th>\n",
              "      <th>300</th>\n",
              "      <th>301</th>\n",
              "      <th>302</th>\n",
              "      <th>303</th>\n",
              "      <th>304</th>\n",
              "      <th>305</th>\n",
              "      <th>306</th>\n",
              "      <th>307</th>\n",
              "      <th>308</th>\n",
              "      <th>309</th>\n",
              "      <th>310</th>\n",
              "      <th>311</th>\n",
              "      <th>312</th>\n",
              "      <th>313</th>\n",
              "      <th>314</th>\n",
              "      <th>315</th>\n",
              "      <th>316</th>\n",
              "      <th>317</th>\n",
              "      <th>318</th>\n",
              "      <th>319</th>\n",
              "      <th>320</th>\n",
              "      <th>321</th>\n",
              "      <th>322</th>\n",
              "      <th>323</th>\n",
              "      <th>324</th>\n",
              "      <th>325</th>\n",
              "      <th>326</th>\n",
              "      <th>327</th>\n",
              "      <th>328</th>\n",
              "      <th>329</th>\n",
              "      <th>330</th>\n",
              "      <th>331</th>\n",
              "      <th>332</th>\n",
              "      <th>333</th>\n",
              "      <th>334</th>\n",
              "      <th>335</th>\n",
              "    </tr>\n",
              "  </thead>\n",
              "  <tbody>\n",
              "    <tr>\n",
              "      <th>0</th>\n",
              "      <td>Balu shahi</td>\n",
              "      <td>maida flour yogurt oil sugar</td>\n",
              "      <td>vegetarian</td>\n",
              "      <td>45</td>\n",
              "      <td>25</td>\n",
              "      <td>sweet</td>\n",
              "      <td>dessert</td>\n",
              "      <td>West Bengal</td>\n",
              "      <td>East</td>\n",
              "      <td>260</td>\n",
              "      <td>0</td>\n",
              "      <td>1</td>\n",
              "      <td>0</td>\n",
              "      <td>0</td>\n",
              "      <td>0</td>\n",
              "      <td>0</td>\n",
              "      <td>0</td>\n",
              "      <td>0</td>\n",
              "      <td>0</td>\n",
              "      <td>0</td>\n",
              "      <td>0</td>\n",
              "      <td>0</td>\n",
              "      <td>0</td>\n",
              "      <td>0</td>\n",
              "      <td>0</td>\n",
              "      <td>0</td>\n",
              "      <td>0</td>\n",
              "      <td>0</td>\n",
              "      <td>0</td>\n",
              "      <td>0</td>\n",
              "      <td>0</td>\n",
              "      <td>0</td>\n",
              "      <td>0</td>\n",
              "      <td>0</td>\n",
              "      <td>0</td>\n",
              "      <td>1</td>\n",
              "      <td>0</td>\n",
              "      <td>1</td>\n",
              "      <td>0</td>\n",
              "      <td>0</td>\n",
              "      <td>...</td>\n",
              "      <td>0.0</td>\n",
              "      <td>0.0</td>\n",
              "      <td>0.0</td>\n",
              "      <td>0.0</td>\n",
              "      <td>0.0</td>\n",
              "      <td>0.0</td>\n",
              "      <td>0.0</td>\n",
              "      <td>0.0</td>\n",
              "      <td>0.0</td>\n",
              "      <td>0.0</td>\n",
              "      <td>0.0</td>\n",
              "      <td>0.0</td>\n",
              "      <td>0.0</td>\n",
              "      <td>0.0</td>\n",
              "      <td>0.0</td>\n",
              "      <td>0.0</td>\n",
              "      <td>0.0</td>\n",
              "      <td>0.0</td>\n",
              "      <td>0.0</td>\n",
              "      <td>0.0</td>\n",
              "      <td>0.0</td>\n",
              "      <td>0.0</td>\n",
              "      <td>0.0</td>\n",
              "      <td>0.0</td>\n",
              "      <td>0.0</td>\n",
              "      <td>0.0</td>\n",
              "      <td>0.0</td>\n",
              "      <td>0.0</td>\n",
              "      <td>0.0</td>\n",
              "      <td>0.0</td>\n",
              "      <td>0.0</td>\n",
              "      <td>0.0</td>\n",
              "      <td>0.0</td>\n",
              "      <td>0.0</td>\n",
              "      <td>0.0</td>\n",
              "      <td>0.0</td>\n",
              "      <td>0.0</td>\n",
              "      <td>0.0</td>\n",
              "      <td>0.0</td>\n",
              "      <td>0.0</td>\n",
              "    </tr>\n",
              "    <tr>\n",
              "      <th>1</th>\n",
              "      <td>Boondi</td>\n",
              "      <td>gram flour ghee sugar</td>\n",
              "      <td>vegetarian</td>\n",
              "      <td>80</td>\n",
              "      <td>30</td>\n",
              "      <td>sweet</td>\n",
              "      <td>dessert</td>\n",
              "      <td>Rajasthan</td>\n",
              "      <td>West</td>\n",
              "      <td>270</td>\n",
              "      <td>0</td>\n",
              "      <td>1</td>\n",
              "      <td>0</td>\n",
              "      <td>0</td>\n",
              "      <td>0</td>\n",
              "      <td>0</td>\n",
              "      <td>0</td>\n",
              "      <td>0</td>\n",
              "      <td>0</td>\n",
              "      <td>0</td>\n",
              "      <td>0</td>\n",
              "      <td>0</td>\n",
              "      <td>0</td>\n",
              "      <td>0</td>\n",
              "      <td>0</td>\n",
              "      <td>0</td>\n",
              "      <td>0</td>\n",
              "      <td>0</td>\n",
              "      <td>0</td>\n",
              "      <td>1</td>\n",
              "      <td>0</td>\n",
              "      <td>0</td>\n",
              "      <td>0</td>\n",
              "      <td>0</td>\n",
              "      <td>0</td>\n",
              "      <td>0</td>\n",
              "      <td>0</td>\n",
              "      <td>0</td>\n",
              "      <td>0</td>\n",
              "      <td>0</td>\n",
              "      <td>...</td>\n",
              "      <td>0.0</td>\n",
              "      <td>0.0</td>\n",
              "      <td>0.0</td>\n",
              "      <td>0.0</td>\n",
              "      <td>0.0</td>\n",
              "      <td>0.0</td>\n",
              "      <td>0.0</td>\n",
              "      <td>0.0</td>\n",
              "      <td>0.0</td>\n",
              "      <td>0.0</td>\n",
              "      <td>0.0</td>\n",
              "      <td>0.0</td>\n",
              "      <td>0.0</td>\n",
              "      <td>0.0</td>\n",
              "      <td>0.0</td>\n",
              "      <td>0.0</td>\n",
              "      <td>0.0</td>\n",
              "      <td>0.0</td>\n",
              "      <td>0.0</td>\n",
              "      <td>0.0</td>\n",
              "      <td>0.0</td>\n",
              "      <td>0.0</td>\n",
              "      <td>0.0</td>\n",
              "      <td>0.0</td>\n",
              "      <td>0.0</td>\n",
              "      <td>0.0</td>\n",
              "      <td>0.0</td>\n",
              "      <td>0.0</td>\n",
              "      <td>0.0</td>\n",
              "      <td>0.0</td>\n",
              "      <td>0.0</td>\n",
              "      <td>0.0</td>\n",
              "      <td>0.0</td>\n",
              "      <td>0.0</td>\n",
              "      <td>0.0</td>\n",
              "      <td>0.0</td>\n",
              "      <td>0.0</td>\n",
              "      <td>0.0</td>\n",
              "      <td>0.0</td>\n",
              "      <td>0.0</td>\n",
              "    </tr>\n",
              "    <tr>\n",
              "      <th>2</th>\n",
              "      <td>Gajar ka halwa</td>\n",
              "      <td>carrots milk sugar ghee cashews raisins</td>\n",
              "      <td>vegetarian</td>\n",
              "      <td>15</td>\n",
              "      <td>60</td>\n",
              "      <td>sweet</td>\n",
              "      <td>dessert</td>\n",
              "      <td>Punjab</td>\n",
              "      <td>North</td>\n",
              "      <td>450</td>\n",
              "      <td>0</td>\n",
              "      <td>1</td>\n",
              "      <td>0</td>\n",
              "      <td>0</td>\n",
              "      <td>0</td>\n",
              "      <td>0</td>\n",
              "      <td>0</td>\n",
              "      <td>0</td>\n",
              "      <td>0</td>\n",
              "      <td>0</td>\n",
              "      <td>0</td>\n",
              "      <td>0</td>\n",
              "      <td>0</td>\n",
              "      <td>0</td>\n",
              "      <td>0</td>\n",
              "      <td>0</td>\n",
              "      <td>0</td>\n",
              "      <td>0</td>\n",
              "      <td>1</td>\n",
              "      <td>0</td>\n",
              "      <td>0</td>\n",
              "      <td>0</td>\n",
              "      <td>0</td>\n",
              "      <td>0</td>\n",
              "      <td>0</td>\n",
              "      <td>0</td>\n",
              "      <td>0</td>\n",
              "      <td>0</td>\n",
              "      <td>1</td>\n",
              "      <td>0</td>\n",
              "      <td>...</td>\n",
              "      <td>0.0</td>\n",
              "      <td>0.0</td>\n",
              "      <td>0.0</td>\n",
              "      <td>0.0</td>\n",
              "      <td>0.0</td>\n",
              "      <td>0.0</td>\n",
              "      <td>0.0</td>\n",
              "      <td>0.0</td>\n",
              "      <td>0.0</td>\n",
              "      <td>0.0</td>\n",
              "      <td>0.0</td>\n",
              "      <td>0.0</td>\n",
              "      <td>0.0</td>\n",
              "      <td>0.0</td>\n",
              "      <td>0.0</td>\n",
              "      <td>0.0</td>\n",
              "      <td>0.0</td>\n",
              "      <td>0.0</td>\n",
              "      <td>0.0</td>\n",
              "      <td>0.0</td>\n",
              "      <td>0.0</td>\n",
              "      <td>0.0</td>\n",
              "      <td>0.0</td>\n",
              "      <td>0.0</td>\n",
              "      <td>0.0</td>\n",
              "      <td>0.0</td>\n",
              "      <td>0.0</td>\n",
              "      <td>0.0</td>\n",
              "      <td>0.0</td>\n",
              "      <td>0.0</td>\n",
              "      <td>0.0</td>\n",
              "      <td>0.0</td>\n",
              "      <td>0.0</td>\n",
              "      <td>0.0</td>\n",
              "      <td>0.0</td>\n",
              "      <td>0.0</td>\n",
              "      <td>0.0</td>\n",
              "      <td>0.0</td>\n",
              "      <td>0.0</td>\n",
              "      <td>0.0</td>\n",
              "    </tr>\n",
              "    <tr>\n",
              "      <th>3</th>\n",
              "      <td>Ghevar</td>\n",
              "      <td>flour ghee kewra milk clarified butter sugar a...</td>\n",
              "      <td>vegetarian</td>\n",
              "      <td>15</td>\n",
              "      <td>30</td>\n",
              "      <td>sweet</td>\n",
              "      <td>dessert</td>\n",
              "      <td>Rajasthan</td>\n",
              "      <td>West</td>\n",
              "      <td>460</td>\n",
              "      <td>0</td>\n",
              "      <td>1</td>\n",
              "      <td>0</td>\n",
              "      <td>0</td>\n",
              "      <td>0</td>\n",
              "      <td>0</td>\n",
              "      <td>0</td>\n",
              "      <td>0</td>\n",
              "      <td>0</td>\n",
              "      <td>0</td>\n",
              "      <td>0</td>\n",
              "      <td>0</td>\n",
              "      <td>0</td>\n",
              "      <td>0</td>\n",
              "      <td>0</td>\n",
              "      <td>0</td>\n",
              "      <td>0</td>\n",
              "      <td>0</td>\n",
              "      <td>0</td>\n",
              "      <td>1</td>\n",
              "      <td>0</td>\n",
              "      <td>0</td>\n",
              "      <td>0</td>\n",
              "      <td>0</td>\n",
              "      <td>0</td>\n",
              "      <td>0</td>\n",
              "      <td>0</td>\n",
              "      <td>0</td>\n",
              "      <td>0</td>\n",
              "      <td>0</td>\n",
              "      <td>...</td>\n",
              "      <td>0.0</td>\n",
              "      <td>0.0</td>\n",
              "      <td>0.0</td>\n",
              "      <td>0.0</td>\n",
              "      <td>0.0</td>\n",
              "      <td>0.0</td>\n",
              "      <td>0.0</td>\n",
              "      <td>0.0</td>\n",
              "      <td>0.0</td>\n",
              "      <td>0.0</td>\n",
              "      <td>0.0</td>\n",
              "      <td>0.0</td>\n",
              "      <td>0.0</td>\n",
              "      <td>0.0</td>\n",
              "      <td>0.0</td>\n",
              "      <td>0.0</td>\n",
              "      <td>0.0</td>\n",
              "      <td>0.0</td>\n",
              "      <td>0.0</td>\n",
              "      <td>0.0</td>\n",
              "      <td>0.0</td>\n",
              "      <td>0.0</td>\n",
              "      <td>0.0</td>\n",
              "      <td>0.0</td>\n",
              "      <td>0.0</td>\n",
              "      <td>0.0</td>\n",
              "      <td>0.0</td>\n",
              "      <td>0.0</td>\n",
              "      <td>0.0</td>\n",
              "      <td>0.0</td>\n",
              "      <td>0.0</td>\n",
              "      <td>0.0</td>\n",
              "      <td>0.0</td>\n",
              "      <td>0.0</td>\n",
              "      <td>0.0</td>\n",
              "      <td>0.0</td>\n",
              "      <td>0.0</td>\n",
              "      <td>0.0</td>\n",
              "      <td>0.0</td>\n",
              "      <td>0.0</td>\n",
              "    </tr>\n",
              "    <tr>\n",
              "      <th>4</th>\n",
              "      <td>Gulab jamun</td>\n",
              "      <td>milk powder plain flour baking powder ghee mil...</td>\n",
              "      <td>vegetarian</td>\n",
              "      <td>15</td>\n",
              "      <td>40</td>\n",
              "      <td>sweet</td>\n",
              "      <td>dessert</td>\n",
              "      <td>West Bengal</td>\n",
              "      <td>East</td>\n",
              "      <td>300</td>\n",
              "      <td>0</td>\n",
              "      <td>1</td>\n",
              "      <td>0</td>\n",
              "      <td>0</td>\n",
              "      <td>0</td>\n",
              "      <td>0</td>\n",
              "      <td>0</td>\n",
              "      <td>0</td>\n",
              "      <td>0</td>\n",
              "      <td>0</td>\n",
              "      <td>0</td>\n",
              "      <td>0</td>\n",
              "      <td>0</td>\n",
              "      <td>0</td>\n",
              "      <td>0</td>\n",
              "      <td>0</td>\n",
              "      <td>0</td>\n",
              "      <td>0</td>\n",
              "      <td>0</td>\n",
              "      <td>0</td>\n",
              "      <td>0</td>\n",
              "      <td>0</td>\n",
              "      <td>0</td>\n",
              "      <td>0</td>\n",
              "      <td>0</td>\n",
              "      <td>1</td>\n",
              "      <td>0</td>\n",
              "      <td>1</td>\n",
              "      <td>0</td>\n",
              "      <td>0</td>\n",
              "      <td>...</td>\n",
              "      <td>0.0</td>\n",
              "      <td>0.0</td>\n",
              "      <td>0.0</td>\n",
              "      <td>0.0</td>\n",
              "      <td>0.0</td>\n",
              "      <td>0.0</td>\n",
              "      <td>0.0</td>\n",
              "      <td>0.0</td>\n",
              "      <td>0.0</td>\n",
              "      <td>0.0</td>\n",
              "      <td>0.0</td>\n",
              "      <td>0.0</td>\n",
              "      <td>0.0</td>\n",
              "      <td>0.0</td>\n",
              "      <td>0.0</td>\n",
              "      <td>0.0</td>\n",
              "      <td>0.0</td>\n",
              "      <td>0.0</td>\n",
              "      <td>0.0</td>\n",
              "      <td>0.0</td>\n",
              "      <td>0.0</td>\n",
              "      <td>0.0</td>\n",
              "      <td>0.0</td>\n",
              "      <td>0.0</td>\n",
              "      <td>0.0</td>\n",
              "      <td>0.0</td>\n",
              "      <td>0.0</td>\n",
              "      <td>0.0</td>\n",
              "      <td>0.0</td>\n",
              "      <td>0.0</td>\n",
              "      <td>0.0</td>\n",
              "      <td>0.0</td>\n",
              "      <td>0.0</td>\n",
              "      <td>0.0</td>\n",
              "      <td>0.0</td>\n",
              "      <td>0.0</td>\n",
              "      <td>0.0</td>\n",
              "      <td>0.0</td>\n",
              "      <td>0.0</td>\n",
              "      <td>0.0</td>\n",
              "    </tr>\n",
              "  </tbody>\n",
              "</table>\n",
              "<p>5 rows × 382 columns</p>\n",
              "</div>"
            ],
            "text/plain": [
              "              0                                                  1    ...  334  335\n",
              "0      Balu shahi                       maida flour yogurt oil sugar  ...  0.0  0.0\n",
              "1          Boondi                              gram flour ghee sugar  ...  0.0  0.0\n",
              "2  Gajar ka halwa            carrots milk sugar ghee cashews raisins  ...  0.0  0.0\n",
              "3          Ghevar  flour ghee kewra milk clarified butter sugar a...  ...  0.0  0.0\n",
              "4     Gulab jamun  milk powder plain flour baking powder ghee mil...  ...  0.0  0.0\n",
              "\n",
              "[5 rows x 382 columns]"
            ]
          },
          "metadata": {
            "tags": []
          },
          "execution_count": 26
        }
      ]
    },
    {
      "cell_type": "markdown",
      "metadata": {
        "id": "1uBY5PeyYTu1"
      },
      "source": [
        "###Plotting the value count of different classes in Food Course Type"
      ]
    },
    {
      "cell_type": "code",
      "metadata": {
        "colab": {
          "base_uri": "https://localhost:8080/",
          "height": 334
        },
        "id": "haksRYnpvpp2",
        "outputId": "2c3171b5-a741-41e0-eeae-79595839ddae"
      },
      "source": [
        "y.value_counts().plot.bar()"
      ],
      "execution_count": 27,
      "outputs": [
        {
          "output_type": "execute_result",
          "data": {
            "text/plain": [
              "<matplotlib.axes._subplots.AxesSubplot at 0x7f3b9b15a150>"
            ]
          },
          "metadata": {
            "tags": []
          },
          "execution_count": 27
        },
        {
          "output_type": "display_data",
          "data": {
            "image/png": "[encoded data removed]",
            "text/plain": [
              "<Figure size 432x288 with 1 Axes>"
            ]
          },
          "metadata": {
            "tags": [],
            "needs_background": "light"
          }
        }
      ]
    },
    {
      "cell_type": "markdown",
      "metadata": {
        "id": "gOFNGZjF5yj5"
      },
      "source": [
        "### Dropping initial text and categorical features"
      ]
    },
    {
      "cell_type": "code",
      "metadata": {
        "id": "dlqr8CaAx3R4"
      },
      "source": [
        "X = df1.drop(columns=[0,1,2,5,6,7,8])"
      ],
      "execution_count": 28,
      "outputs": []
    },
    {
      "cell_type": "markdown",
      "metadata": {
        "id": "f1Ws1EY_3_L2"
      },
      "source": [
        "## Standardization"
      ]
    },
    {
      "cell_type": "code",
      "metadata": {
        "id": "z_nrKgTZ6q8L"
      },
      "source": [
        "sc_X = StandardScaler()\r\n",
        "X = sc_X.fit_transform(X)"
      ],
      "execution_count": 29,
      "outputs": []
    },
    {
      "cell_type": "code",
      "metadata": {
        "colab": {
          "base_uri": "https://localhost:8080/",
          "height": 253
        },
        "id": "qoJXxEOt7Nsc",
        "outputId": "eb1e5bf9-ed13-4bd2-81d1-8db0cd578949"
      },
      "source": [
        "X = pd.DataFrame(X)\r\n",
        "X.head()"
      ],
      "execution_count": 30,
      "outputs": [
        {
          "output_type": "execute_result",
          "data": {
            "text/html": [
              "<div>\n",
              "<style scoped>\n",
              "    .dataframe tbody tr th:only-of-type {\n",
              "        vertical-align: middle;\n",
              "    }\n",
              "\n",
              "    .dataframe tbody tr th {\n",
              "        vertical-align: top;\n",
              "    }\n",
              "\n",
              "    .dataframe thead th {\n",
              "        text-align: right;\n",
              "    }\n",
              "</style>\n",
              "<table border=\"1\" class=\"dataframe\">\n",
              "  <thead>\n",
              "    <tr style=\"text-align: right;\">\n",
              "      <th></th>\n",
              "      <th>0</th>\n",
              "      <th>1</th>\n",
              "      <th>2</th>\n",
              "      <th>3</th>\n",
              "      <th>4</th>\n",
              "      <th>5</th>\n",
              "      <th>6</th>\n",
              "      <th>7</th>\n",
              "      <th>8</th>\n",
              "      <th>9</th>\n",
              "      <th>10</th>\n",
              "      <th>11</th>\n",
              "      <th>12</th>\n",
              "      <th>13</th>\n",
              "      <th>14</th>\n",
              "      <th>15</th>\n",
              "      <th>16</th>\n",
              "      <th>17</th>\n",
              "      <th>18</th>\n",
              "      <th>19</th>\n",
              "      <th>20</th>\n",
              "      <th>21</th>\n",
              "      <th>22</th>\n",
              "      <th>23</th>\n",
              "      <th>24</th>\n",
              "      <th>25</th>\n",
              "      <th>26</th>\n",
              "      <th>27</th>\n",
              "      <th>28</th>\n",
              "      <th>29</th>\n",
              "      <th>30</th>\n",
              "      <th>31</th>\n",
              "      <th>32</th>\n",
              "      <th>33</th>\n",
              "      <th>34</th>\n",
              "      <th>35</th>\n",
              "      <th>36</th>\n",
              "      <th>37</th>\n",
              "      <th>38</th>\n",
              "      <th>39</th>\n",
              "      <th>...</th>\n",
              "      <th>328</th>\n",
              "      <th>329</th>\n",
              "      <th>330</th>\n",
              "      <th>331</th>\n",
              "      <th>332</th>\n",
              "      <th>333</th>\n",
              "      <th>334</th>\n",
              "      <th>335</th>\n",
              "      <th>336</th>\n",
              "      <th>337</th>\n",
              "      <th>338</th>\n",
              "      <th>339</th>\n",
              "      <th>340</th>\n",
              "      <th>341</th>\n",
              "      <th>342</th>\n",
              "      <th>343</th>\n",
              "      <th>344</th>\n",
              "      <th>345</th>\n",
              "      <th>346</th>\n",
              "      <th>347</th>\n",
              "      <th>348</th>\n",
              "      <th>349</th>\n",
              "      <th>350</th>\n",
              "      <th>351</th>\n",
              "      <th>352</th>\n",
              "      <th>353</th>\n",
              "      <th>354</th>\n",
              "      <th>355</th>\n",
              "      <th>356</th>\n",
              "      <th>357</th>\n",
              "      <th>358</th>\n",
              "      <th>359</th>\n",
              "      <th>360</th>\n",
              "      <th>361</th>\n",
              "      <th>362</th>\n",
              "      <th>363</th>\n",
              "      <th>364</th>\n",
              "      <th>365</th>\n",
              "      <th>366</th>\n",
              "      <th>367</th>\n",
              "    </tr>\n",
              "  </thead>\n",
              "  <tbody>\n",
              "    <tr>\n",
              "      <th>0</th>\n",
              "      <td>0.134534</td>\n",
              "      <td>-0.299009</td>\n",
              "      <td>-1.069920</td>\n",
              "      <td>-0.358216</td>\n",
              "      <td>0.358216</td>\n",
              "      <td>-0.202031</td>\n",
              "      <td>-0.299572</td>\n",
              "      <td>-0.109109</td>\n",
              "      <td>-0.062746</td>\n",
              "      <td>-0.109109</td>\n",
              "      <td>-0.548653</td>\n",
              "      <td>-0.062746</td>\n",
              "      <td>-0.088911</td>\n",
              "      <td>-0.15523</td>\n",
              "      <td>-0.179969</td>\n",
              "      <td>-0.088911</td>\n",
              "      <td>-0.365148</td>\n",
              "      <td>-0.088911</td>\n",
              "      <td>-0.062746</td>\n",
              "      <td>-0.062746</td>\n",
              "      <td>-0.168005</td>\n",
              "      <td>-0.378811</td>\n",
              "      <td>-0.155230</td>\n",
              "      <td>-0.29173</td>\n",
              "      <td>-0.141421</td>\n",
              "      <td>-0.062746</td>\n",
              "      <td>-0.191273</td>\n",
              "      <td>-0.062746</td>\n",
              "      <td>3.102418</td>\n",
              "      <td>-0.109109</td>\n",
              "      <td>2.688086</td>\n",
              "      <td>-0.487713</td>\n",
              "      <td>-0.32969</td>\n",
              "      <td>-0.548653</td>\n",
              "      <td>-0.725911</td>\n",
              "      <td>-0.126239</td>\n",
              "      <td>-0.062746</td>\n",
              "      <td>-1.319824</td>\n",
              "      <td>1.37758</td>\n",
              "      <td>1.929306</td>\n",
              "      <td>...</td>\n",
              "      <td>-0.062746</td>\n",
              "      <td>-0.062746</td>\n",
              "      <td>-0.062746</td>\n",
              "      <td>-0.062746</td>\n",
              "      <td>-0.062746</td>\n",
              "      <td>-0.062746</td>\n",
              "      <td>-0.062746</td>\n",
              "      <td>-0.062746</td>\n",
              "      <td>-0.062746</td>\n",
              "      <td>-0.062746</td>\n",
              "      <td>-0.062746</td>\n",
              "      <td>-0.062746</td>\n",
              "      <td>-0.062746</td>\n",
              "      <td>-0.062746</td>\n",
              "      <td>-0.062746</td>\n",
              "      <td>-0.062746</td>\n",
              "      <td>-0.062746</td>\n",
              "      <td>-0.062746</td>\n",
              "      <td>-0.062746</td>\n",
              "      <td>-0.062746</td>\n",
              "      <td>-0.062746</td>\n",
              "      <td>-0.062746</td>\n",
              "      <td>-0.062746</td>\n",
              "      <td>-0.062746</td>\n",
              "      <td>-0.062746</td>\n",
              "      <td>-0.062746</td>\n",
              "      <td>-0.062746</td>\n",
              "      <td>-0.062746</td>\n",
              "      <td>-0.062746</td>\n",
              "      <td>-0.062746</td>\n",
              "      <td>-0.062746</td>\n",
              "      <td>-0.062746</td>\n",
              "      <td>-0.062746</td>\n",
              "      <td>-0.062746</td>\n",
              "      <td>-0.062746</td>\n",
              "      <td>-0.062746</td>\n",
              "      <td>-0.062746</td>\n",
              "      <td>-0.062746</td>\n",
              "      <td>-0.062746</td>\n",
              "      <td>-0.062746</td>\n",
              "    </tr>\n",
              "    <tr>\n",
              "      <th>1</th>\n",
              "      <td>0.624341</td>\n",
              "      <td>-0.191544</td>\n",
              "      <td>-0.969382</td>\n",
              "      <td>-0.358216</td>\n",
              "      <td>0.358216</td>\n",
              "      <td>-0.202031</td>\n",
              "      <td>-0.299572</td>\n",
              "      <td>-0.109109</td>\n",
              "      <td>-0.062746</td>\n",
              "      <td>-0.109109</td>\n",
              "      <td>-0.548653</td>\n",
              "      <td>-0.062746</td>\n",
              "      <td>-0.088911</td>\n",
              "      <td>-0.15523</td>\n",
              "      <td>-0.179969</td>\n",
              "      <td>-0.088911</td>\n",
              "      <td>-0.365148</td>\n",
              "      <td>-0.088911</td>\n",
              "      <td>-0.062746</td>\n",
              "      <td>-0.062746</td>\n",
              "      <td>-0.168005</td>\n",
              "      <td>-0.378811</td>\n",
              "      <td>6.442049</td>\n",
              "      <td>-0.29173</td>\n",
              "      <td>-0.141421</td>\n",
              "      <td>-0.062746</td>\n",
              "      <td>-0.191273</td>\n",
              "      <td>-0.062746</td>\n",
              "      <td>-0.322329</td>\n",
              "      <td>-0.109109</td>\n",
              "      <td>-0.372012</td>\n",
              "      <td>-0.487713</td>\n",
              "      <td>-0.32969</td>\n",
              "      <td>-0.548653</td>\n",
              "      <td>1.377580</td>\n",
              "      <td>-0.126239</td>\n",
              "      <td>-0.062746</td>\n",
              "      <td>-1.319824</td>\n",
              "      <td>1.37758</td>\n",
              "      <td>1.929306</td>\n",
              "      <td>...</td>\n",
              "      <td>-0.062746</td>\n",
              "      <td>-0.062746</td>\n",
              "      <td>-0.062746</td>\n",
              "      <td>-0.062746</td>\n",
              "      <td>-0.062746</td>\n",
              "      <td>-0.062746</td>\n",
              "      <td>-0.062746</td>\n",
              "      <td>-0.062746</td>\n",
              "      <td>-0.062746</td>\n",
              "      <td>-0.062746</td>\n",
              "      <td>-0.062746</td>\n",
              "      <td>-0.062746</td>\n",
              "      <td>-0.062746</td>\n",
              "      <td>-0.062746</td>\n",
              "      <td>-0.062746</td>\n",
              "      <td>-0.062746</td>\n",
              "      <td>-0.062746</td>\n",
              "      <td>-0.062746</td>\n",
              "      <td>-0.062746</td>\n",
              "      <td>-0.062746</td>\n",
              "      <td>-0.062746</td>\n",
              "      <td>-0.062746</td>\n",
              "      <td>-0.062746</td>\n",
              "      <td>-0.062746</td>\n",
              "      <td>-0.062746</td>\n",
              "      <td>-0.062746</td>\n",
              "      <td>-0.062746</td>\n",
              "      <td>-0.062746</td>\n",
              "      <td>-0.062746</td>\n",
              "      <td>-0.062746</td>\n",
              "      <td>-0.062746</td>\n",
              "      <td>-0.062746</td>\n",
              "      <td>-0.062746</td>\n",
              "      <td>-0.062746</td>\n",
              "      <td>-0.062746</td>\n",
              "      <td>-0.062746</td>\n",
              "      <td>-0.062746</td>\n",
              "      <td>-0.062746</td>\n",
              "      <td>-0.062746</td>\n",
              "      <td>-0.062746</td>\n",
              "    </tr>\n",
              "    <tr>\n",
              "      <th>2</th>\n",
              "      <td>-0.285301</td>\n",
              "      <td>0.453248</td>\n",
              "      <td>0.840299</td>\n",
              "      <td>-0.358216</td>\n",
              "      <td>0.358216</td>\n",
              "      <td>-0.202031</td>\n",
              "      <td>-0.299572</td>\n",
              "      <td>-0.109109</td>\n",
              "      <td>-0.062746</td>\n",
              "      <td>-0.109109</td>\n",
              "      <td>-0.548653</td>\n",
              "      <td>-0.062746</td>\n",
              "      <td>-0.088911</td>\n",
              "      <td>-0.15523</td>\n",
              "      <td>-0.179969</td>\n",
              "      <td>-0.088911</td>\n",
              "      <td>-0.365148</td>\n",
              "      <td>-0.088911</td>\n",
              "      <td>-0.062746</td>\n",
              "      <td>-0.062746</td>\n",
              "      <td>-0.168005</td>\n",
              "      <td>2.639839</td>\n",
              "      <td>-0.155230</td>\n",
              "      <td>-0.29173</td>\n",
              "      <td>-0.141421</td>\n",
              "      <td>-0.062746</td>\n",
              "      <td>-0.191273</td>\n",
              "      <td>-0.062746</td>\n",
              "      <td>-0.322329</td>\n",
              "      <td>-0.109109</td>\n",
              "      <td>-0.372012</td>\n",
              "      <td>2.050386</td>\n",
              "      <td>-0.32969</td>\n",
              "      <td>-0.548653</td>\n",
              "      <td>-0.725911</td>\n",
              "      <td>-0.126239</td>\n",
              "      <td>-0.062746</td>\n",
              "      <td>-1.319824</td>\n",
              "      <td>1.37758</td>\n",
              "      <td>1.929306</td>\n",
              "      <td>...</td>\n",
              "      <td>-0.062746</td>\n",
              "      <td>-0.062746</td>\n",
              "      <td>-0.062746</td>\n",
              "      <td>-0.062746</td>\n",
              "      <td>-0.062746</td>\n",
              "      <td>-0.062746</td>\n",
              "      <td>-0.062746</td>\n",
              "      <td>-0.062746</td>\n",
              "      <td>-0.062746</td>\n",
              "      <td>-0.062746</td>\n",
              "      <td>-0.062746</td>\n",
              "      <td>-0.062746</td>\n",
              "      <td>-0.062746</td>\n",
              "      <td>-0.062746</td>\n",
              "      <td>-0.062746</td>\n",
              "      <td>-0.062746</td>\n",
              "      <td>-0.062746</td>\n",
              "      <td>-0.062746</td>\n",
              "      <td>-0.062746</td>\n",
              "      <td>-0.062746</td>\n",
              "      <td>-0.062746</td>\n",
              "      <td>-0.062746</td>\n",
              "      <td>-0.062746</td>\n",
              "      <td>-0.062746</td>\n",
              "      <td>-0.062746</td>\n",
              "      <td>-0.062746</td>\n",
              "      <td>-0.062746</td>\n",
              "      <td>-0.062746</td>\n",
              "      <td>-0.062746</td>\n",
              "      <td>-0.062746</td>\n",
              "      <td>-0.062746</td>\n",
              "      <td>-0.062746</td>\n",
              "      <td>-0.062746</td>\n",
              "      <td>-0.062746</td>\n",
              "      <td>-0.062746</td>\n",
              "      <td>-0.062746</td>\n",
              "      <td>-0.062746</td>\n",
              "      <td>-0.062746</td>\n",
              "      <td>-0.062746</td>\n",
              "      <td>-0.062746</td>\n",
              "    </tr>\n",
              "    <tr>\n",
              "      <th>3</th>\n",
              "      <td>-0.285301</td>\n",
              "      <td>-0.191544</td>\n",
              "      <td>0.940837</td>\n",
              "      <td>-0.358216</td>\n",
              "      <td>0.358216</td>\n",
              "      <td>-0.202031</td>\n",
              "      <td>-0.299572</td>\n",
              "      <td>-0.109109</td>\n",
              "      <td>-0.062746</td>\n",
              "      <td>-0.109109</td>\n",
              "      <td>-0.548653</td>\n",
              "      <td>-0.062746</td>\n",
              "      <td>-0.088911</td>\n",
              "      <td>-0.15523</td>\n",
              "      <td>-0.179969</td>\n",
              "      <td>-0.088911</td>\n",
              "      <td>-0.365148</td>\n",
              "      <td>-0.088911</td>\n",
              "      <td>-0.062746</td>\n",
              "      <td>-0.062746</td>\n",
              "      <td>-0.168005</td>\n",
              "      <td>-0.378811</td>\n",
              "      <td>6.442049</td>\n",
              "      <td>-0.29173</td>\n",
              "      <td>-0.141421</td>\n",
              "      <td>-0.062746</td>\n",
              "      <td>-0.191273</td>\n",
              "      <td>-0.062746</td>\n",
              "      <td>-0.322329</td>\n",
              "      <td>-0.109109</td>\n",
              "      <td>-0.372012</td>\n",
              "      <td>-0.487713</td>\n",
              "      <td>-0.32969</td>\n",
              "      <td>-0.548653</td>\n",
              "      <td>1.377580</td>\n",
              "      <td>-0.126239</td>\n",
              "      <td>-0.062746</td>\n",
              "      <td>-1.319824</td>\n",
              "      <td>1.37758</td>\n",
              "      <td>1.929306</td>\n",
              "      <td>...</td>\n",
              "      <td>-0.062746</td>\n",
              "      <td>-0.062746</td>\n",
              "      <td>-0.062746</td>\n",
              "      <td>-0.062746</td>\n",
              "      <td>-0.062746</td>\n",
              "      <td>-0.062746</td>\n",
              "      <td>-0.062746</td>\n",
              "      <td>-0.062746</td>\n",
              "      <td>-0.062746</td>\n",
              "      <td>-0.062746</td>\n",
              "      <td>-0.062746</td>\n",
              "      <td>-0.062746</td>\n",
              "      <td>-0.062746</td>\n",
              "      <td>-0.062746</td>\n",
              "      <td>-0.062746</td>\n",
              "      <td>-0.062746</td>\n",
              "      <td>-0.062746</td>\n",
              "      <td>-0.062746</td>\n",
              "      <td>-0.062746</td>\n",
              "      <td>-0.062746</td>\n",
              "      <td>-0.062746</td>\n",
              "      <td>-0.062746</td>\n",
              "      <td>-0.062746</td>\n",
              "      <td>-0.062746</td>\n",
              "      <td>-0.062746</td>\n",
              "      <td>-0.062746</td>\n",
              "      <td>-0.062746</td>\n",
              "      <td>-0.062746</td>\n",
              "      <td>-0.062746</td>\n",
              "      <td>-0.062746</td>\n",
              "      <td>-0.062746</td>\n",
              "      <td>-0.062746</td>\n",
              "      <td>-0.062746</td>\n",
              "      <td>-0.062746</td>\n",
              "      <td>-0.062746</td>\n",
              "      <td>-0.062746</td>\n",
              "      <td>-0.062746</td>\n",
              "      <td>-0.062746</td>\n",
              "      <td>-0.062746</td>\n",
              "      <td>-0.062746</td>\n",
              "    </tr>\n",
              "    <tr>\n",
              "      <th>4</th>\n",
              "      <td>-0.285301</td>\n",
              "      <td>0.023387</td>\n",
              "      <td>-0.667768</td>\n",
              "      <td>-0.358216</td>\n",
              "      <td>0.358216</td>\n",
              "      <td>-0.202031</td>\n",
              "      <td>-0.299572</td>\n",
              "      <td>-0.109109</td>\n",
              "      <td>-0.062746</td>\n",
              "      <td>-0.109109</td>\n",
              "      <td>-0.548653</td>\n",
              "      <td>-0.062746</td>\n",
              "      <td>-0.088911</td>\n",
              "      <td>-0.15523</td>\n",
              "      <td>-0.179969</td>\n",
              "      <td>-0.088911</td>\n",
              "      <td>-0.365148</td>\n",
              "      <td>-0.088911</td>\n",
              "      <td>-0.062746</td>\n",
              "      <td>-0.062746</td>\n",
              "      <td>-0.168005</td>\n",
              "      <td>-0.378811</td>\n",
              "      <td>-0.155230</td>\n",
              "      <td>-0.29173</td>\n",
              "      <td>-0.141421</td>\n",
              "      <td>-0.062746</td>\n",
              "      <td>-0.191273</td>\n",
              "      <td>-0.062746</td>\n",
              "      <td>3.102418</td>\n",
              "      <td>-0.109109</td>\n",
              "      <td>2.688086</td>\n",
              "      <td>-0.487713</td>\n",
              "      <td>-0.32969</td>\n",
              "      <td>-0.548653</td>\n",
              "      <td>-0.725911</td>\n",
              "      <td>-0.126239</td>\n",
              "      <td>-0.062746</td>\n",
              "      <td>-1.319824</td>\n",
              "      <td>1.37758</td>\n",
              "      <td>1.929306</td>\n",
              "      <td>...</td>\n",
              "      <td>-0.062746</td>\n",
              "      <td>-0.062746</td>\n",
              "      <td>-0.062746</td>\n",
              "      <td>-0.062746</td>\n",
              "      <td>-0.062746</td>\n",
              "      <td>-0.062746</td>\n",
              "      <td>-0.062746</td>\n",
              "      <td>-0.062746</td>\n",
              "      <td>-0.062746</td>\n",
              "      <td>-0.062746</td>\n",
              "      <td>-0.062746</td>\n",
              "      <td>-0.062746</td>\n",
              "      <td>-0.062746</td>\n",
              "      <td>-0.062746</td>\n",
              "      <td>-0.062746</td>\n",
              "      <td>-0.062746</td>\n",
              "      <td>-0.062746</td>\n",
              "      <td>-0.062746</td>\n",
              "      <td>-0.062746</td>\n",
              "      <td>-0.062746</td>\n",
              "      <td>-0.062746</td>\n",
              "      <td>-0.062746</td>\n",
              "      <td>-0.062746</td>\n",
              "      <td>-0.062746</td>\n",
              "      <td>-0.062746</td>\n",
              "      <td>-0.062746</td>\n",
              "      <td>-0.062746</td>\n",
              "      <td>-0.062746</td>\n",
              "      <td>-0.062746</td>\n",
              "      <td>-0.062746</td>\n",
              "      <td>-0.062746</td>\n",
              "      <td>-0.062746</td>\n",
              "      <td>-0.062746</td>\n",
              "      <td>-0.062746</td>\n",
              "      <td>-0.062746</td>\n",
              "      <td>-0.062746</td>\n",
              "      <td>-0.062746</td>\n",
              "      <td>-0.062746</td>\n",
              "      <td>-0.062746</td>\n",
              "      <td>-0.062746</td>\n",
              "    </tr>\n",
              "  </tbody>\n",
              "</table>\n",
              "<p>5 rows × 368 columns</p>\n",
              "</div>"
            ],
            "text/plain": [
              "        0         1         2    ...       365       366       367\n",
              "0  0.134534 -0.299009 -1.069920  ... -0.062746 -0.062746 -0.062746\n",
              "1  0.624341 -0.191544 -0.969382  ... -0.062746 -0.062746 -0.062746\n",
              "2 -0.285301  0.453248  0.840299  ... -0.062746 -0.062746 -0.062746\n",
              "3 -0.285301 -0.191544  0.940837  ... -0.062746 -0.062746 -0.062746\n",
              "4 -0.285301  0.023387 -0.667768  ... -0.062746 -0.062746 -0.062746\n",
              "\n",
              "[5 rows x 368 columns]"
            ]
          },
          "metadata": {
            "tags": []
          },
          "execution_count": 30
        }
      ]
    },
    {
      "cell_type": "markdown",
      "metadata": {
        "id": "KqvrLKHH4KrT"
      },
      "source": [
        "## Creating Train and Test Datasets with Test size as 20% of the given Dataset"
      ]
    },
    {
      "cell_type": "code",
      "metadata": {
        "id": "iCaiI8tiy9PI"
      },
      "source": [
        "X_test = X.iloc[50:101,:].values\r\n",
        "X_train1 = X.iloc[:50,:].values\r\n",
        "X_train2 = X.iloc[101:,:].values\r\n",
        "\r\n",
        "X_test = pd.DataFrame(X_test)\r\n",
        "X_train1 = pd.DataFrame(X_train1)\r\n",
        "X_train2 = pd.DataFrame(X_train2)\r\n",
        "X_train = pd.concat([X_train1,X_train2], axis=0)\r\n",
        "\r\n",
        "y_test = y.iloc[50:101].values\r\n",
        "y_train1 = y.iloc[:50].values\r\n",
        "y_train2 = y.iloc[101:].values\r\n",
        "\r\n",
        "y_test = pd.DataFrame(y_test)\r\n",
        "y_train1 = pd.DataFrame(y_train1)\r\n",
        "y_train2 = pd.DataFrame(y_train2)\r\n",
        "y_train = pd.concat([y_train1,y_train2], axis=0)"
      ],
      "execution_count": 31,
      "outputs": []
    },
    {
      "cell_type": "code",
      "metadata": {
        "colab": {
          "base_uri": "https://localhost:8080/"
        },
        "id": "LEOBkEt9_QnN",
        "outputId": "f56985c3-e372-4667-83fc-f8aa8b13c13f"
      },
      "source": [
        "print('Number of Train Data :',X_train.shape[0])\r\n",
        "print('Number of Test Data :',X_test.shape[0])\r\n",
        "print('Percentage of Train Data :',(X_train.shape[0]/ X.shape[0])*100 , '%')\r\n",
        "print('Percentage of Test Data :',(X_test.shape[0]/ X.shape[0])*100 , '%')"
      ],
      "execution_count": 32,
      "outputs": [
        {
          "output_type": "stream",
          "text": [
            "Number of Train Data : 204\n",
            "Number of Test Data : 51\n",
            "Percentage of Train Data : 80.0 %\n",
            "Percentage of Test Data : 20.0 %\n"
          ],
          "name": "stdout"
        }
      ]
    },
    {
      "cell_type": "markdown",
      "metadata": {
        "id": "5PtIfijU4sWv"
      },
      "source": [
        "#Classifiers\r\n",
        "#1. Random Forest Classifier\r\n",
        "#2. Support Vector Machine Classifier\r\n",
        "#3. Gradient Boosting Classifier"
      ]
    },
    {
      "cell_type": "markdown",
      "metadata": {
        "id": "wJekyV3w5B7S"
      },
      "source": [
        "##Random Forest Classifier"
      ]
    },
    {
      "cell_type": "markdown",
      "metadata": {
        "id": "_jj9YIC6c-H2"
      },
      "source": [
        "### Training the model and calculating Overall Accuracy and Kappa Coefficient"
      ]
    },
    {
      "cell_type": "code",
      "metadata": {
        "id": "___8hZXD-IGZ",
        "colab": {
          "base_uri": "https://localhost:8080/"
        },
        "outputId": "74e88fca-5f7a-4b23-84b7-57fc9834239c"
      },
      "source": [
        "clf1 = RandomForestClassifier(n_estimators=10, random_state=42, max_depth=2, criterion='entropy', max_features=None)\r\n",
        "clf1.fit(X_train,y_train)\r\n",
        "\r\n",
        "y_pred1 = clf1.predict(X_test)\r\n",
        "\r\n",
        "print(\"Accuracy_Score :\",accuracy_score(y_test, y_pred1))\r\n",
        "\r\n",
        "print(\"Kappa_Score : \",cohen_kappa_score(y_test, y_pred1))\r\n",
        "\r\n",
        "cm1 = confusion_matrix(y_test,y_pred1)\r\n",
        "cm1 = pd.DataFrame(cm1)\r\n"
      ],
      "execution_count": 33,
      "outputs": [
        {
          "output_type": "stream",
          "text": [
            "Accuracy_Score : 0.8627450980392157\n",
            "Kappa_Score :  0.7317806160781367\n"
          ],
          "name": "stdout"
        },
        {
          "output_type": "stream",
          "text": [
            "/usr/local/lib/python3.7/dist-packages/ipykernel_launcher.py:2: DataConversionWarning: A column-vector y was passed when a 1d array was expected. Please change the shape of y to (n_samples,), for example using ravel().\n",
            "  \n"
          ],
          "name": "stderr"
        }
      ]
    },
    {
      "cell_type": "markdown",
      "metadata": {
        "id": "gO-jh6bzdJ5d"
      },
      "source": [
        "### Plotting the Confusion Matrix"
      ]
    },
    {
      "cell_type": "code",
      "metadata": {
        "colab": {
          "base_uri": "https://localhost:8080/",
          "height": 279
        },
        "id": "ie7IiF97gGnW",
        "outputId": "55c72997-cb60-4288-d115-ec77e6f95224"
      },
      "source": [
        "plot_confusion_matrix(clf1, X_test, y_test)  \r\n",
        "plt.show() "
      ],
      "execution_count": 34,
      "outputs": [
        {
          "output_type": "display_data",
          "data": {
            "image/png": "[encoded data removed]",
            "text/plain": [
              "<Figure size 432x288 with 2 Axes>"
            ]
          },
          "metadata": {
            "tags": [],
            "needs_background": "light"
          }
        }
      ]
    },
    {
      "cell_type": "markdown",
      "metadata": {
        "id": "lw03MIZ3dRIf"
      },
      "source": [
        "### Calculating the Producer's Accuracy"
      ]
    },
    {
      "cell_type": "code",
      "metadata": {
        "colab": {
          "base_uri": "https://localhost:8080/"
        },
        "id": "YlKsLGJ0gpos",
        "outputId": "93e8b2d1-0119-44e3-a0a2-3d41b52be8cd"
      },
      "source": [
        "print('PRODUCERS ACCURACY')\r\n",
        "print('Dessert:',cm1.iat[0,0]/(cm1.iat[0,0] + cm1.iat[0,1] + cm1.iat[0,2] + cm1.iat[0,3]))\r\n",
        "print('Main Course:',cm1.iat[1,1]/(cm1.iat[1,0] + cm1.iat[1,1] + cm1.iat[1,2] + cm1.iat[1,3]))\r\n",
        "print('Snack:',cm1.iat[2,2]/(cm1.iat[2,0] + cm1.iat[2,1] + cm1.iat[2,2] + cm1.iat[2,3]))\r\n",
        "print('Starter:',cm1.iat[3,3]/(cm1.iat[3,0] + cm1.iat[3,1] + cm1.iat[3,2] + cm1.iat[3,3]))"
      ],
      "execution_count": 35,
      "outputs": [
        {
          "output_type": "stream",
          "text": [
            "PRODUCERS ACCURACY\n",
            "Dessert: 1.0\n",
            "Main Course: 0.9032258064516129\n",
            "Snack: 0.0\n",
            "Starter: 0.0\n"
          ],
          "name": "stdout"
        }
      ]
    },
    {
      "cell_type": "markdown",
      "metadata": {
        "id": "iJaMTy_idcbd"
      },
      "source": [
        "### Calculating the User's Accuracy"
      ]
    },
    {
      "cell_type": "code",
      "metadata": {
        "colab": {
          "base_uri": "https://localhost:8080/"
        },
        "id": "FrkwmzS7jxOx",
        "outputId": "dd5e690d-59ae-4238-e757-2aa788703804"
      },
      "source": [
        "print('USERS ACCURACY')\r\n",
        "print('Dessert:',cm1.iat[0,0]/(cm1.iat[0,0] + cm1.iat[1,0] + cm1.iat[2,0] + cm1.iat[3,0]))\r\n",
        "print('Main Course:',cm1.iat[1,1]/(cm1.iat[0,1] + cm1.iat[1,1] + cm1.iat[2,1] + cm1.iat[3,1]))\r\n",
        "print('Snack:',cm1.iat[2,2]/(cm1.iat[0,2] + cm1.iat[1,2] + cm1.iat[2,2] + cm1.iat[3,2]))\r\n",
        "print('Starter:',cm1.iat[3,3]/(cm1.iat[0,3] + cm1.iat[1,3] + cm1.iat[2,3] + cm1.iat[3,3]))"
      ],
      "execution_count": 36,
      "outputs": [
        {
          "output_type": "stream",
          "text": [
            "USERS ACCURACY\n",
            "Dessert: 0.9411764705882353\n",
            "Main Course: 0.875\n",
            "Snack: 0.0\n",
            "Starter: nan\n"
          ],
          "name": "stdout"
        },
        {
          "output_type": "stream",
          "text": [
            "/usr/local/lib/python3.7/dist-packages/ipykernel_launcher.py:5: RuntimeWarning: invalid value encountered in long_scalars\n",
            "  \"\"\"\n"
          ],
          "name": "stderr"
        }
      ]
    },
    {
      "cell_type": "markdown",
      "metadata": {
        "id": "sWKKhDNI678I"
      },
      "source": [
        "## Support Vector Machine Classifier"
      ]
    },
    {
      "cell_type": "markdown",
      "metadata": {
        "id": "4OZMO_yWeVgu"
      },
      "source": [
        "### Training the model and calculating Overall Accuracy and Kappa Coefficient"
      ]
    },
    {
      "cell_type": "code",
      "metadata": {
        "colab": {
          "base_uri": "https://localhost:8080/"
        },
        "id": "eblozhYkAM1_",
        "outputId": "3007e0b5-ed9e-4586-84ef-a7e1a1a9e859"
      },
      "source": [
        "clf2 = SVC(kernel='sigmoid', gamma='auto', C=3.5, class_weight='balanced')\r\n",
        "clf2.fit(X_train,y_train)\r\n",
        "y_pred2 = clf2.predict(X_test)\r\n",
        "\r\n",
        "\r\n",
        "print(\"Accuracy_Score :\",accuracy_score(y_test, y_pred2))\r\n",
        "print(\"Kappa_Score : \",cohen_kappa_score(y_test, y_pred2))\r\n",
        "\r\n",
        "cm2 = confusion_matrix(y_test,y_pred2)\r\n",
        "cm2 = pd.DataFrame(cm2)\r\n",
        "\r\n"
      ],
      "execution_count": 37,
      "outputs": [
        {
          "output_type": "stream",
          "text": [
            "Accuracy_Score : 0.8627450980392157\n",
            "Kappa_Score :  0.7548076923076923\n"
          ],
          "name": "stdout"
        },
        {
          "output_type": "stream",
          "text": [
            "/usr/local/lib/python3.7/dist-packages/sklearn/utils/validation.py:760: DataConversionWarning: A column-vector y was passed when a 1d array was expected. Please change the shape of y to (n_samples, ), for example using ravel().\n",
            "  y = column_or_1d(y, warn=True)\n"
          ],
          "name": "stderr"
        }
      ]
    },
    {
      "cell_type": "markdown",
      "metadata": {
        "id": "diu2dKiNeWzI"
      },
      "source": [
        "### Plotting the Confusion Matrix"
      ]
    },
    {
      "cell_type": "code",
      "metadata": {
        "colab": {
          "base_uri": "https://localhost:8080/",
          "height": 279
        },
        "id": "FEILumEigAZu",
        "outputId": "75e3d481-8378-4210-94eb-272d039b0559"
      },
      "source": [
        "plot_confusion_matrix(clf2, X_test, y_test)  \r\n",
        "plt.show() "
      ],
      "execution_count": 38,
      "outputs": [
        {
          "output_type": "display_data",
          "data": {
            "image/png": "[encoded data removed]",
            "text/plain": [
              "<Figure size 432x288 with 2 Axes>"
            ]
          },
          "metadata": {
            "tags": [],
            "needs_background": "light"
          }
        }
      ]
    },
    {
      "cell_type": "markdown",
      "metadata": {
        "id": "GIXvSXajeX_T"
      },
      "source": [
        "### Calculating the Producer's Accuracy"
      ]
    },
    {
      "cell_type": "code",
      "metadata": {
        "colab": {
          "base_uri": "https://localhost:8080/"
        },
        "id": "BJHcOpa7kPrI",
        "outputId": "2bb410a2-b774-47a1-8303-4c1da0d08270"
      },
      "source": [
        "print('PRODUCERS ACCURACY')\r\n",
        "print('Dessert:',cm2.iat[0,0]/(cm2.iat[0,0] + cm2.iat[0,1] + cm2.iat[0,2] + cm2.iat[0,3]))\r\n",
        "print('Main Course:',cm2.iat[1,1]/(cm2.iat[1,0] + cm2.iat[1,1] + cm2.iat[1,2] + cm2.iat[1,3]))\r\n",
        "print('Snack:',cm2.iat[2,2]/(cm2.iat[2,0] + cm2.iat[2,1] + cm2.iat[2,2] + cm2.iat[2,3]))\r\n",
        "print('Starter:',cm2.iat[3,3]/(cm2.iat[3,0] + cm2.iat[3,1] + cm2.iat[3,2] + cm2.iat[3,3]))"
      ],
      "execution_count": 39,
      "outputs": [
        {
          "output_type": "stream",
          "text": [
            "PRODUCERS ACCURACY\n",
            "Dessert: 1.0\n",
            "Main Course: 0.8387096774193549\n",
            "Snack: 0.6666666666666666\n",
            "Starter: 0.0\n"
          ],
          "name": "stdout"
        }
      ]
    },
    {
      "cell_type": "markdown",
      "metadata": {
        "id": "yumlYNMWeZk2"
      },
      "source": [
        "### Calculating the User's Accuracy"
      ]
    },
    {
      "cell_type": "code",
      "metadata": {
        "colab": {
          "base_uri": "https://localhost:8080/"
        },
        "id": "8IWepXODk9i5",
        "outputId": "2a04ae1d-ab08-44dc-cc6c-d76f611255ee"
      },
      "source": [
        "print('USERS ACCURACY')\r\n",
        "print('Dessert:',cm2.iat[0,0]/(cm2.iat[0,0] + cm2.iat[1,0] + cm2.iat[2,0] + cm2.iat[3,0]))\r\n",
        "print('Main Course:',cm2.iat[1,1]/(cm2.iat[0,1] + cm2.iat[1,1] + cm2.iat[2,1] + cm2.iat[3,1]))\r\n",
        "print('Snack:',cm2.iat[2,2]/(cm2.iat[0,2] + cm2.iat[1,2] + cm2.iat[2,2] + cm2.iat[3,2]))\r\n",
        "print('Starter:',cm2.iat[3,3]/(cm2.iat[0,3] + cm2.iat[1,3] + cm2.iat[2,3] + cm2.iat[3,3]))"
      ],
      "execution_count": 40,
      "outputs": [
        {
          "output_type": "stream",
          "text": [
            "USERS ACCURACY\n",
            "Dessert: 1.0\n",
            "Main Course: 0.9285714285714286\n",
            "Snack: 0.2857142857142857\n",
            "Starter: nan\n"
          ],
          "name": "stdout"
        },
        {
          "output_type": "stream",
          "text": [
            "/usr/local/lib/python3.7/dist-packages/ipykernel_launcher.py:5: RuntimeWarning: invalid value encountered in long_scalars\n",
            "  \"\"\"\n"
          ],
          "name": "stderr"
        }
      ]
    },
    {
      "cell_type": "markdown",
      "metadata": {
        "id": "qA0ZLYax7dsM"
      },
      "source": [
        "## Gradient Boosting Classifier"
      ]
    },
    {
      "cell_type": "markdown",
      "metadata": {
        "id": "CZmhuH-YerKm"
      },
      "source": [
        "### Training the model and calculating Overall Accuracy and Kappa Coefficient"
      ]
    },
    {
      "cell_type": "code",
      "metadata": {
        "id": "fHQrqC_w_ioZ",
        "colab": {
          "base_uri": "https://localhost:8080/"
        },
        "outputId": "716fde1e-98a4-420c-ca01-1bc849ac8c37"
      },
      "source": [
        "clf3 = GradientBoostingClassifier(n_estimators=900, learning_rate=1.3, min_samples_split=4, validation_fraction=0.2)\r\n",
        "clf3.fit(X_train,y_train)\r\n",
        "y_pred3 = clf3.predict(X_test)\r\n",
        "\r\n",
        "print(\"Accuracy_Score :\",accuracy_score(y_test, y_pred3))\r\n",
        "print(\"Kappa_Score : \",cohen_kappa_score(y_test, y_pred3))\r\n",
        "\r\n",
        "cm3 = confusion_matrix(y_test,y_pred3)\r\n",
        "cm3 = pd.DataFrame(cm3)\r\n",
        "\r\n"
      ],
      "execution_count": 41,
      "outputs": [
        {
          "output_type": "stream",
          "text": [
            "/usr/local/lib/python3.7/dist-packages/sklearn/ensemble/_gb.py:1454: DataConversionWarning: A column-vector y was passed when a 1d array was expected. Please change the shape of y to (n_samples, ), for example using ravel().\n",
            "  y = column_or_1d(y, warn=True)\n"
          ],
          "name": "stderr"
        },
        {
          "output_type": "stream",
          "text": [
            "Accuracy_Score : 0.7843137254901961\n",
            "Kappa_Score :  0.5992857142857143\n"
          ],
          "name": "stdout"
        }
      ]
    },
    {
      "cell_type": "markdown",
      "metadata": {
        "id": "KLfbX3RNesD4"
      },
      "source": [
        "### Plotting the Confusion Matrix"
      ]
    },
    {
      "cell_type": "code",
      "metadata": {
        "colab": {
          "base_uri": "https://localhost:8080/",
          "height": 283
        },
        "id": "JbJY9QrLfjqT",
        "outputId": "a09dfe12-2407-402f-baca-f5f7bec2569d"
      },
      "source": [
        "plot_confusion_matrix(clf3, X_test, y_test)  \r\n",
        "plt.show() "
      ],
      "execution_count": 42,
      "outputs": [
        {
          "output_type": "display_data",
          "data": {
            "image/png": "[encoded data removed]",
            "text/plain": [
              "<Figure size 432x288 with 2 Axes>"
            ]
          },
          "metadata": {
            "tags": [],
            "needs_background": "light"
          }
        }
      ]
    },
    {
      "cell_type": "markdown",
      "metadata": {
        "id": "KBLeHEYSetD8"
      },
      "source": [
        "### Calculating the Producer's Accuracy"
      ]
    },
    {
      "cell_type": "code",
      "metadata": {
        "colab": {
          "base_uri": "https://localhost:8080/"
        },
        "id": "rY5e4wF1lrcE",
        "outputId": "f7dff358-31bc-4df8-ec17-12c2a428413d"
      },
      "source": [
        "print('PRODUCERS ACCURACY')\r\n",
        "print('Dessert:',cm3.iat[0,0]/(cm3.iat[0,0] + cm3.iat[0,1] + cm3.iat[0,2] + cm3.iat[0,3]))\r\n",
        "print('Main Course:',cm3.iat[1,1]/(cm3.iat[1,0] + cm3.iat[1,1] + cm3.iat[1,2] + cm3.iat[1,3]))\r\n",
        "print('Snack:',cm3.iat[2,2]/(cm3.iat[2,0] + cm3.iat[2,1] + cm3.iat[2,2] + cm3.iat[2,3]))\r\n",
        "print('Starter:',cm3.iat[3,3]/(cm3.iat[3,0] + cm3.iat[3,1] + cm3.iat[3,2] + cm3.iat[3,3]))"
      ],
      "execution_count": 43,
      "outputs": [
        {
          "output_type": "stream",
          "text": [
            "PRODUCERS ACCURACY\n",
            "Dessert: 0.9375\n",
            "Main Course: 0.8064516129032258\n",
            "Snack: 0.0\n",
            "Starter: 0.0\n"
          ],
          "name": "stdout"
        }
      ]
    },
    {
      "cell_type": "markdown",
      "metadata": {
        "id": "nbaSv3SveuNt"
      },
      "source": [
        "### Calculating the User's Accuracy"
      ]
    },
    {
      "cell_type": "code",
      "metadata": {
        "colab": {
          "base_uri": "https://localhost:8080/"
        },
        "id": "Qy2w_d-LmYas",
        "outputId": "b046e839-4eb1-439a-8e07-8df1171ca0ac"
      },
      "source": [
        "print('USERS ACCURACY')\r\n",
        "print('Dessert:',cm3.iat[0,0]/(cm3.iat[0,0] + cm3.iat[1,0] + cm3.iat[2,0] + cm3.iat[3,0]))\r\n",
        "print('Main Course:',cm3.iat[1,1]/(cm3.iat[0,1] + cm3.iat[1,1] + cm3.iat[2,1] + cm3.iat[3,1]))\r\n",
        "print('Snack:',cm3.iat[2,2]/(cm3.iat[0,2] + cm3.iat[1,2] + cm3.iat[2,2] + cm3.iat[3,2]))\r\n",
        "print('Starter:',cm3.iat[3,3]/(cm3.iat[0,3] + cm3.iat[1,3] + cm3.iat[2,3] + cm3.iat[3,3]))"
      ],
      "execution_count": 44,
      "outputs": [
        {
          "output_type": "stream",
          "text": [
            "USERS ACCURACY\n",
            "Dessert: 0.9375\n",
            "Main Course: 0.8333333333333334\n",
            "Snack: 0.0\n",
            "Starter: nan\n"
          ],
          "name": "stdout"
        },
        {
          "output_type": "stream",
          "text": [
            "/usr/local/lib/python3.7/dist-packages/ipykernel_launcher.py:5: RuntimeWarning: invalid value encountered in long_scalars\n",
            "  \"\"\"\n"
          ],
          "name": "stderr"
        }
      ]
    },
    {
      "cell_type": "code",
      "metadata": {
        "id": "1ZPkRa4Ple4I"
      },
      "source": [
        ""
      ],
      "execution_count": 44,
      "outputs": []
    },
    {
      "cell_type": "markdown",
      "metadata": {
        "id": "w6eUOydflfkP"
      },
      "source": [
        "##CLASSIFICATION OF FLAVOUR"
      ]
    },
    {
      "cell_type": "markdown",
      "metadata": {
        "id": "kPrK9BhvfN12"
      },
      "source": [
        "### Concatenating the encoded categorical features and tokenized text matrix"
      ]
    },
    {
      "cell_type": "code",
      "metadata": {
        "colab": {
          "base_uri": "https://localhost:8080/",
          "height": 712
        },
        "id": "DHfyd4vnloqS",
        "outputId": "ce735ce1-20f5-4c48-b85d-b8c387516066"
      },
      "source": [
        "y = df[5]\r\n",
        "df2 = pd.concat([df,d1,d2,d3,d5,temp], axis=1)\r\n",
        "df2.head()"
      ],
      "execution_count": 45,
      "outputs": [
        {
          "output_type": "execute_result",
          "data": {
            "text/html": [
              "<div>\n",
              "<style scoped>\n",
              "    .dataframe tbody tr th:only-of-type {\n",
              "        vertical-align: middle;\n",
              "    }\n",
              "\n",
              "    .dataframe tbody tr th {\n",
              "        vertical-align: top;\n",
              "    }\n",
              "\n",
              "    .dataframe thead th {\n",
              "        text-align: right;\n",
              "    }\n",
              "</style>\n",
              "<table border=\"1\" class=\"dataframe\">\n",
              "  <thead>\n",
              "    <tr style=\"text-align: right;\">\n",
              "      <th></th>\n",
              "      <th>0</th>\n",
              "      <th>1</th>\n",
              "      <th>2</th>\n",
              "      <th>3</th>\n",
              "      <th>4</th>\n",
              "      <th>5</th>\n",
              "      <th>6</th>\n",
              "      <th>7</th>\n",
              "      <th>8</th>\n",
              "      <th>9</th>\n",
              "      <th>non vegetarian</th>\n",
              "      <th>vegetarian</th>\n",
              "      <th>Andhra Pradesh</th>\n",
              "      <th>Assam</th>\n",
              "      <th>Bihar</th>\n",
              "      <th>Chhattisgarh</th>\n",
              "      <th>Goa</th>\n",
              "      <th>Gujarat</th>\n",
              "      <th>Haryana</th>\n",
              "      <th>Jammu &amp; Kashmir</th>\n",
              "      <th>Karnataka</th>\n",
              "      <th>Kerala</th>\n",
              "      <th>Madhya Pradesh</th>\n",
              "      <th>Maharashtra</th>\n",
              "      <th>Manipur</th>\n",
              "      <th>NCT of Delhi</th>\n",
              "      <th>Nagaland</th>\n",
              "      <th>Odisha</th>\n",
              "      <th>Punjab</th>\n",
              "      <th>Rajasthan</th>\n",
              "      <th>Tamil Nadu</th>\n",
              "      <th>Telangana</th>\n",
              "      <th>Tripura</th>\n",
              "      <th>Uttar Pradesh</th>\n",
              "      <th>Uttarakhand</th>\n",
              "      <th>West Bengal</th>\n",
              "      <th>Central</th>\n",
              "      <th>East</th>\n",
              "      <th>North</th>\n",
              "      <th>North East</th>\n",
              "      <th>...</th>\n",
              "      <th>296</th>\n",
              "      <th>297</th>\n",
              "      <th>298</th>\n",
              "      <th>299</th>\n",
              "      <th>300</th>\n",
              "      <th>301</th>\n",
              "      <th>302</th>\n",
              "      <th>303</th>\n",
              "      <th>304</th>\n",
              "      <th>305</th>\n",
              "      <th>306</th>\n",
              "      <th>307</th>\n",
              "      <th>308</th>\n",
              "      <th>309</th>\n",
              "      <th>310</th>\n",
              "      <th>311</th>\n",
              "      <th>312</th>\n",
              "      <th>313</th>\n",
              "      <th>314</th>\n",
              "      <th>315</th>\n",
              "      <th>316</th>\n",
              "      <th>317</th>\n",
              "      <th>318</th>\n",
              "      <th>319</th>\n",
              "      <th>320</th>\n",
              "      <th>321</th>\n",
              "      <th>322</th>\n",
              "      <th>323</th>\n",
              "      <th>324</th>\n",
              "      <th>325</th>\n",
              "      <th>326</th>\n",
              "      <th>327</th>\n",
              "      <th>328</th>\n",
              "      <th>329</th>\n",
              "      <th>330</th>\n",
              "      <th>331</th>\n",
              "      <th>332</th>\n",
              "      <th>333</th>\n",
              "      <th>334</th>\n",
              "      <th>335</th>\n",
              "    </tr>\n",
              "  </thead>\n",
              "  <tbody>\n",
              "    <tr>\n",
              "      <th>0</th>\n",
              "      <td>Balu shahi</td>\n",
              "      <td>maida flour yogurt oil sugar</td>\n",
              "      <td>vegetarian</td>\n",
              "      <td>45</td>\n",
              "      <td>25</td>\n",
              "      <td>sweet</td>\n",
              "      <td>dessert</td>\n",
              "      <td>West Bengal</td>\n",
              "      <td>East</td>\n",
              "      <td>260</td>\n",
              "      <td>0</td>\n",
              "      <td>1</td>\n",
              "      <td>0</td>\n",
              "      <td>0</td>\n",
              "      <td>0</td>\n",
              "      <td>0</td>\n",
              "      <td>0</td>\n",
              "      <td>0</td>\n",
              "      <td>0</td>\n",
              "      <td>0</td>\n",
              "      <td>0</td>\n",
              "      <td>0</td>\n",
              "      <td>0</td>\n",
              "      <td>0</td>\n",
              "      <td>0</td>\n",
              "      <td>0</td>\n",
              "      <td>0</td>\n",
              "      <td>0</td>\n",
              "      <td>0</td>\n",
              "      <td>0</td>\n",
              "      <td>0</td>\n",
              "      <td>0</td>\n",
              "      <td>0</td>\n",
              "      <td>0</td>\n",
              "      <td>0</td>\n",
              "      <td>1</td>\n",
              "      <td>0</td>\n",
              "      <td>1</td>\n",
              "      <td>0</td>\n",
              "      <td>0</td>\n",
              "      <td>...</td>\n",
              "      <td>0.0</td>\n",
              "      <td>0.0</td>\n",
              "      <td>0.0</td>\n",
              "      <td>0.0</td>\n",
              "      <td>0.0</td>\n",
              "      <td>0.0</td>\n",
              "      <td>0.0</td>\n",
              "      <td>0.0</td>\n",
              "      <td>0.0</td>\n",
              "      <td>0.0</td>\n",
              "      <td>0.0</td>\n",
              "      <td>0.0</td>\n",
              "      <td>0.0</td>\n",
              "      <td>0.0</td>\n",
              "      <td>0.0</td>\n",
              "      <td>0.0</td>\n",
              "      <td>0.0</td>\n",
              "      <td>0.0</td>\n",
              "      <td>0.0</td>\n",
              "      <td>0.0</td>\n",
              "      <td>0.0</td>\n",
              "      <td>0.0</td>\n",
              "      <td>0.0</td>\n",
              "      <td>0.0</td>\n",
              "      <td>0.0</td>\n",
              "      <td>0.0</td>\n",
              "      <td>0.0</td>\n",
              "      <td>0.0</td>\n",
              "      <td>0.0</td>\n",
              "      <td>0.0</td>\n",
              "      <td>0.0</td>\n",
              "      <td>0.0</td>\n",
              "      <td>0.0</td>\n",
              "      <td>0.0</td>\n",
              "      <td>0.0</td>\n",
              "      <td>0.0</td>\n",
              "      <td>0.0</td>\n",
              "      <td>0.0</td>\n",
              "      <td>0.0</td>\n",
              "      <td>0.0</td>\n",
              "    </tr>\n",
              "    <tr>\n",
              "      <th>1</th>\n",
              "      <td>Boondi</td>\n",
              "      <td>gram flour ghee sugar</td>\n",
              "      <td>vegetarian</td>\n",
              "      <td>80</td>\n",
              "      <td>30</td>\n",
              "      <td>sweet</td>\n",
              "      <td>dessert</td>\n",
              "      <td>Rajasthan</td>\n",
              "      <td>West</td>\n",
              "      <td>270</td>\n",
              "      <td>0</td>\n",
              "      <td>1</td>\n",
              "      <td>0</td>\n",
              "      <td>0</td>\n",
              "      <td>0</td>\n",
              "      <td>0</td>\n",
              "      <td>0</td>\n",
              "      <td>0</td>\n",
              "      <td>0</td>\n",
              "      <td>0</td>\n",
              "      <td>0</td>\n",
              "      <td>0</td>\n",
              "      <td>0</td>\n",
              "      <td>0</td>\n",
              "      <td>0</td>\n",
              "      <td>0</td>\n",
              "      <td>0</td>\n",
              "      <td>0</td>\n",
              "      <td>0</td>\n",
              "      <td>1</td>\n",
              "      <td>0</td>\n",
              "      <td>0</td>\n",
              "      <td>0</td>\n",
              "      <td>0</td>\n",
              "      <td>0</td>\n",
              "      <td>0</td>\n",
              "      <td>0</td>\n",
              "      <td>0</td>\n",
              "      <td>0</td>\n",
              "      <td>0</td>\n",
              "      <td>...</td>\n",
              "      <td>0.0</td>\n",
              "      <td>0.0</td>\n",
              "      <td>0.0</td>\n",
              "      <td>0.0</td>\n",
              "      <td>0.0</td>\n",
              "      <td>0.0</td>\n",
              "      <td>0.0</td>\n",
              "      <td>0.0</td>\n",
              "      <td>0.0</td>\n",
              "      <td>0.0</td>\n",
              "      <td>0.0</td>\n",
              "      <td>0.0</td>\n",
              "      <td>0.0</td>\n",
              "      <td>0.0</td>\n",
              "      <td>0.0</td>\n",
              "      <td>0.0</td>\n",
              "      <td>0.0</td>\n",
              "      <td>0.0</td>\n",
              "      <td>0.0</td>\n",
              "      <td>0.0</td>\n",
              "      <td>0.0</td>\n",
              "      <td>0.0</td>\n",
              "      <td>0.0</td>\n",
              "      <td>0.0</td>\n",
              "      <td>0.0</td>\n",
              "      <td>0.0</td>\n",
              "      <td>0.0</td>\n",
              "      <td>0.0</td>\n",
              "      <td>0.0</td>\n",
              "      <td>0.0</td>\n",
              "      <td>0.0</td>\n",
              "      <td>0.0</td>\n",
              "      <td>0.0</td>\n",
              "      <td>0.0</td>\n",
              "      <td>0.0</td>\n",
              "      <td>0.0</td>\n",
              "      <td>0.0</td>\n",
              "      <td>0.0</td>\n",
              "      <td>0.0</td>\n",
              "      <td>0.0</td>\n",
              "    </tr>\n",
              "    <tr>\n",
              "      <th>2</th>\n",
              "      <td>Gajar ka halwa</td>\n",
              "      <td>carrots milk sugar ghee cashews raisins</td>\n",
              "      <td>vegetarian</td>\n",
              "      <td>15</td>\n",
              "      <td>60</td>\n",
              "      <td>sweet</td>\n",
              "      <td>dessert</td>\n",
              "      <td>Punjab</td>\n",
              "      <td>North</td>\n",
              "      <td>450</td>\n",
              "      <td>0</td>\n",
              "      <td>1</td>\n",
              "      <td>0</td>\n",
              "      <td>0</td>\n",
              "      <td>0</td>\n",
              "      <td>0</td>\n",
              "      <td>0</td>\n",
              "      <td>0</td>\n",
              "      <td>0</td>\n",
              "      <td>0</td>\n",
              "      <td>0</td>\n",
              "      <td>0</td>\n",
              "      <td>0</td>\n",
              "      <td>0</td>\n",
              "      <td>0</td>\n",
              "      <td>0</td>\n",
              "      <td>0</td>\n",
              "      <td>0</td>\n",
              "      <td>1</td>\n",
              "      <td>0</td>\n",
              "      <td>0</td>\n",
              "      <td>0</td>\n",
              "      <td>0</td>\n",
              "      <td>0</td>\n",
              "      <td>0</td>\n",
              "      <td>0</td>\n",
              "      <td>0</td>\n",
              "      <td>0</td>\n",
              "      <td>1</td>\n",
              "      <td>0</td>\n",
              "      <td>...</td>\n",
              "      <td>0.0</td>\n",
              "      <td>0.0</td>\n",
              "      <td>0.0</td>\n",
              "      <td>0.0</td>\n",
              "      <td>0.0</td>\n",
              "      <td>0.0</td>\n",
              "      <td>0.0</td>\n",
              "      <td>0.0</td>\n",
              "      <td>0.0</td>\n",
              "      <td>0.0</td>\n",
              "      <td>0.0</td>\n",
              "      <td>0.0</td>\n",
              "      <td>0.0</td>\n",
              "      <td>0.0</td>\n",
              "      <td>0.0</td>\n",
              "      <td>0.0</td>\n",
              "      <td>0.0</td>\n",
              "      <td>0.0</td>\n",
              "      <td>0.0</td>\n",
              "      <td>0.0</td>\n",
              "      <td>0.0</td>\n",
              "      <td>0.0</td>\n",
              "      <td>0.0</td>\n",
              "      <td>0.0</td>\n",
              "      <td>0.0</td>\n",
              "      <td>0.0</td>\n",
              "      <td>0.0</td>\n",
              "      <td>0.0</td>\n",
              "      <td>0.0</td>\n",
              "      <td>0.0</td>\n",
              "      <td>0.0</td>\n",
              "      <td>0.0</td>\n",
              "      <td>0.0</td>\n",
              "      <td>0.0</td>\n",
              "      <td>0.0</td>\n",
              "      <td>0.0</td>\n",
              "      <td>0.0</td>\n",
              "      <td>0.0</td>\n",
              "      <td>0.0</td>\n",
              "      <td>0.0</td>\n",
              "    </tr>\n",
              "    <tr>\n",
              "      <th>3</th>\n",
              "      <td>Ghevar</td>\n",
              "      <td>flour ghee kewra milk clarified butter sugar a...</td>\n",
              "      <td>vegetarian</td>\n",
              "      <td>15</td>\n",
              "      <td>30</td>\n",
              "      <td>sweet</td>\n",
              "      <td>dessert</td>\n",
              "      <td>Rajasthan</td>\n",
              "      <td>West</td>\n",
              "      <td>460</td>\n",
              "      <td>0</td>\n",
              "      <td>1</td>\n",
              "      <td>0</td>\n",
              "      <td>0</td>\n",
              "      <td>0</td>\n",
              "      <td>0</td>\n",
              "      <td>0</td>\n",
              "      <td>0</td>\n",
              "      <td>0</td>\n",
              "      <td>0</td>\n",
              "      <td>0</td>\n",
              "      <td>0</td>\n",
              "      <td>0</td>\n",
              "      <td>0</td>\n",
              "      <td>0</td>\n",
              "      <td>0</td>\n",
              "      <td>0</td>\n",
              "      <td>0</td>\n",
              "      <td>0</td>\n",
              "      <td>1</td>\n",
              "      <td>0</td>\n",
              "      <td>0</td>\n",
              "      <td>0</td>\n",
              "      <td>0</td>\n",
              "      <td>0</td>\n",
              "      <td>0</td>\n",
              "      <td>0</td>\n",
              "      <td>0</td>\n",
              "      <td>0</td>\n",
              "      <td>0</td>\n",
              "      <td>...</td>\n",
              "      <td>0.0</td>\n",
              "      <td>0.0</td>\n",
              "      <td>0.0</td>\n",
              "      <td>0.0</td>\n",
              "      <td>0.0</td>\n",
              "      <td>0.0</td>\n",
              "      <td>0.0</td>\n",
              "      <td>0.0</td>\n",
              "      <td>0.0</td>\n",
              "      <td>0.0</td>\n",
              "      <td>0.0</td>\n",
              "      <td>0.0</td>\n",
              "      <td>0.0</td>\n",
              "      <td>0.0</td>\n",
              "      <td>0.0</td>\n",
              "      <td>0.0</td>\n",
              "      <td>0.0</td>\n",
              "      <td>0.0</td>\n",
              "      <td>0.0</td>\n",
              "      <td>0.0</td>\n",
              "      <td>0.0</td>\n",
              "      <td>0.0</td>\n",
              "      <td>0.0</td>\n",
              "      <td>0.0</td>\n",
              "      <td>0.0</td>\n",
              "      <td>0.0</td>\n",
              "      <td>0.0</td>\n",
              "      <td>0.0</td>\n",
              "      <td>0.0</td>\n",
              "      <td>0.0</td>\n",
              "      <td>0.0</td>\n",
              "      <td>0.0</td>\n",
              "      <td>0.0</td>\n",
              "      <td>0.0</td>\n",
              "      <td>0.0</td>\n",
              "      <td>0.0</td>\n",
              "      <td>0.0</td>\n",
              "      <td>0.0</td>\n",
              "      <td>0.0</td>\n",
              "      <td>0.0</td>\n",
              "    </tr>\n",
              "    <tr>\n",
              "      <th>4</th>\n",
              "      <td>Gulab jamun</td>\n",
              "      <td>milk powder plain flour baking powder ghee mil...</td>\n",
              "      <td>vegetarian</td>\n",
              "      <td>15</td>\n",
              "      <td>40</td>\n",
              "      <td>sweet</td>\n",
              "      <td>dessert</td>\n",
              "      <td>West Bengal</td>\n",
              "      <td>East</td>\n",
              "      <td>300</td>\n",
              "      <td>0</td>\n",
              "      <td>1</td>\n",
              "      <td>0</td>\n",
              "      <td>0</td>\n",
              "      <td>0</td>\n",
              "      <td>0</td>\n",
              "      <td>0</td>\n",
              "      <td>0</td>\n",
              "      <td>0</td>\n",
              "      <td>0</td>\n",
              "      <td>0</td>\n",
              "      <td>0</td>\n",
              "      <td>0</td>\n",
              "      <td>0</td>\n",
              "      <td>0</td>\n",
              "      <td>0</td>\n",
              "      <td>0</td>\n",
              "      <td>0</td>\n",
              "      <td>0</td>\n",
              "      <td>0</td>\n",
              "      <td>0</td>\n",
              "      <td>0</td>\n",
              "      <td>0</td>\n",
              "      <td>0</td>\n",
              "      <td>0</td>\n",
              "      <td>1</td>\n",
              "      <td>0</td>\n",
              "      <td>1</td>\n",
              "      <td>0</td>\n",
              "      <td>0</td>\n",
              "      <td>...</td>\n",
              "      <td>0.0</td>\n",
              "      <td>0.0</td>\n",
              "      <td>0.0</td>\n",
              "      <td>0.0</td>\n",
              "      <td>0.0</td>\n",
              "      <td>0.0</td>\n",
              "      <td>0.0</td>\n",
              "      <td>0.0</td>\n",
              "      <td>0.0</td>\n",
              "      <td>0.0</td>\n",
              "      <td>0.0</td>\n",
              "      <td>0.0</td>\n",
              "      <td>0.0</td>\n",
              "      <td>0.0</td>\n",
              "      <td>0.0</td>\n",
              "      <td>0.0</td>\n",
              "      <td>0.0</td>\n",
              "      <td>0.0</td>\n",
              "      <td>0.0</td>\n",
              "      <td>0.0</td>\n",
              "      <td>0.0</td>\n",
              "      <td>0.0</td>\n",
              "      <td>0.0</td>\n",
              "      <td>0.0</td>\n",
              "      <td>0.0</td>\n",
              "      <td>0.0</td>\n",
              "      <td>0.0</td>\n",
              "      <td>0.0</td>\n",
              "      <td>0.0</td>\n",
              "      <td>0.0</td>\n",
              "      <td>0.0</td>\n",
              "      <td>0.0</td>\n",
              "      <td>0.0</td>\n",
              "      <td>0.0</td>\n",
              "      <td>0.0</td>\n",
              "      <td>0.0</td>\n",
              "      <td>0.0</td>\n",
              "      <td>0.0</td>\n",
              "      <td>0.0</td>\n",
              "      <td>0.0</td>\n",
              "    </tr>\n",
              "  </tbody>\n",
              "</table>\n",
              "<p>5 rows × 382 columns</p>\n",
              "</div>"
            ],
            "text/plain": [
              "              0                                                  1    ...  334  335\n",
              "0      Balu shahi                       maida flour yogurt oil sugar  ...  0.0  0.0\n",
              "1          Boondi                              gram flour ghee sugar  ...  0.0  0.0\n",
              "2  Gajar ka halwa            carrots milk sugar ghee cashews raisins  ...  0.0  0.0\n",
              "3          Ghevar  flour ghee kewra milk clarified butter sugar a...  ...  0.0  0.0\n",
              "4     Gulab jamun  milk powder plain flour baking powder ghee mil...  ...  0.0  0.0\n",
              "\n",
              "[5 rows x 382 columns]"
            ]
          },
          "metadata": {
            "tags": []
          },
          "execution_count": 45
        }
      ]
    },
    {
      "cell_type": "markdown",
      "metadata": {
        "id": "_DLkORldfQ_e"
      },
      "source": [
        "###Plotting the value counts for different classes in Flavor"
      ]
    },
    {
      "cell_type": "code",
      "metadata": {
        "colab": {
          "base_uri": "https://localhost:8080/",
          "height": 302
        },
        "id": "GckdDpyavy7U",
        "outputId": "89955c37-1878-4d85-b038-32493675e3b1"
      },
      "source": [
        "y.value_counts().plot.bar()"
      ],
      "execution_count": 46,
      "outputs": [
        {
          "output_type": "execute_result",
          "data": {
            "text/plain": [
              "<matplotlib.axes._subplots.AxesSubplot at 0x7f3b9acfdc10>"
            ]
          },
          "metadata": {
            "tags": []
          },
          "execution_count": 46
        },
        {
          "output_type": "display_data",
          "data": {
            "image/png": "[encoded data removed]",
            "text/plain": [
              "<Figure size 432x288 with 1 Axes>"
            ]
          },
          "metadata": {
            "tags": [],
            "needs_background": "light"
          }
        }
      ]
    },
    {
      "cell_type": "markdown",
      "metadata": {
        "id": "Bamdnj95fdrr"
      },
      "source": [
        "###Dropping of initial text and categorical features and Standardizing the data"
      ]
    },
    {
      "cell_type": "code",
      "metadata": {
        "colab": {
          "base_uri": "https://localhost:8080/",
          "height": 253
        },
        "id": "6rtL7mCE382d",
        "outputId": "d6feb1fa-9790-4f4d-b61e-aa8addf3e723"
      },
      "source": [
        "X = df2.drop(columns=[0,1,2,5,6,7,8])\r\n",
        "sc_X = StandardScaler()\r\n",
        "X = sc_X.fit_transform(X)\r\n",
        "X = pd.DataFrame(X)\r\n",
        "X.head()"
      ],
      "execution_count": 47,
      "outputs": [
        {
          "output_type": "execute_result",
          "data": {
            "text/html": [
              "<div>\n",
              "<style scoped>\n",
              "    .dataframe tbody tr th:only-of-type {\n",
              "        vertical-align: middle;\n",
              "    }\n",
              "\n",
              "    .dataframe tbody tr th {\n",
              "        vertical-align: top;\n",
              "    }\n",
              "\n",
              "    .dataframe thead th {\n",
              "        text-align: right;\n",
              "    }\n",
              "</style>\n",
              "<table border=\"1\" class=\"dataframe\">\n",
              "  <thead>\n",
              "    <tr style=\"text-align: right;\">\n",
              "      <th></th>\n",
              "      <th>0</th>\n",
              "      <th>1</th>\n",
              "      <th>2</th>\n",
              "      <th>3</th>\n",
              "      <th>4</th>\n",
              "      <th>5</th>\n",
              "      <th>6</th>\n",
              "      <th>7</th>\n",
              "      <th>8</th>\n",
              "      <th>9</th>\n",
              "      <th>10</th>\n",
              "      <th>11</th>\n",
              "      <th>12</th>\n",
              "      <th>13</th>\n",
              "      <th>14</th>\n",
              "      <th>15</th>\n",
              "      <th>16</th>\n",
              "      <th>17</th>\n",
              "      <th>18</th>\n",
              "      <th>19</th>\n",
              "      <th>20</th>\n",
              "      <th>21</th>\n",
              "      <th>22</th>\n",
              "      <th>23</th>\n",
              "      <th>24</th>\n",
              "      <th>25</th>\n",
              "      <th>26</th>\n",
              "      <th>27</th>\n",
              "      <th>28</th>\n",
              "      <th>29</th>\n",
              "      <th>30</th>\n",
              "      <th>31</th>\n",
              "      <th>32</th>\n",
              "      <th>33</th>\n",
              "      <th>34</th>\n",
              "      <th>35</th>\n",
              "      <th>36</th>\n",
              "      <th>37</th>\n",
              "      <th>38</th>\n",
              "      <th>39</th>\n",
              "      <th>...</th>\n",
              "      <th>328</th>\n",
              "      <th>329</th>\n",
              "      <th>330</th>\n",
              "      <th>331</th>\n",
              "      <th>332</th>\n",
              "      <th>333</th>\n",
              "      <th>334</th>\n",
              "      <th>335</th>\n",
              "      <th>336</th>\n",
              "      <th>337</th>\n",
              "      <th>338</th>\n",
              "      <th>339</th>\n",
              "      <th>340</th>\n",
              "      <th>341</th>\n",
              "      <th>342</th>\n",
              "      <th>343</th>\n",
              "      <th>344</th>\n",
              "      <th>345</th>\n",
              "      <th>346</th>\n",
              "      <th>347</th>\n",
              "      <th>348</th>\n",
              "      <th>349</th>\n",
              "      <th>350</th>\n",
              "      <th>351</th>\n",
              "      <th>352</th>\n",
              "      <th>353</th>\n",
              "      <th>354</th>\n",
              "      <th>355</th>\n",
              "      <th>356</th>\n",
              "      <th>357</th>\n",
              "      <th>358</th>\n",
              "      <th>359</th>\n",
              "      <th>360</th>\n",
              "      <th>361</th>\n",
              "      <th>362</th>\n",
              "      <th>363</th>\n",
              "      <th>364</th>\n",
              "      <th>365</th>\n",
              "      <th>366</th>\n",
              "      <th>367</th>\n",
              "    </tr>\n",
              "  </thead>\n",
              "  <tbody>\n",
              "    <tr>\n",
              "      <th>0</th>\n",
              "      <td>0.134534</td>\n",
              "      <td>-0.299009</td>\n",
              "      <td>-1.069920</td>\n",
              "      <td>-0.358216</td>\n",
              "      <td>0.358216</td>\n",
              "      <td>-0.202031</td>\n",
              "      <td>-0.299572</td>\n",
              "      <td>-0.109109</td>\n",
              "      <td>-0.062746</td>\n",
              "      <td>-0.109109</td>\n",
              "      <td>-0.548653</td>\n",
              "      <td>-0.062746</td>\n",
              "      <td>-0.088911</td>\n",
              "      <td>-0.15523</td>\n",
              "      <td>-0.179969</td>\n",
              "      <td>-0.088911</td>\n",
              "      <td>-0.365148</td>\n",
              "      <td>-0.088911</td>\n",
              "      <td>-0.062746</td>\n",
              "      <td>-0.062746</td>\n",
              "      <td>-0.168005</td>\n",
              "      <td>-0.378811</td>\n",
              "      <td>-0.155230</td>\n",
              "      <td>-0.29173</td>\n",
              "      <td>-0.141421</td>\n",
              "      <td>-0.062746</td>\n",
              "      <td>-0.191273</td>\n",
              "      <td>-0.062746</td>\n",
              "      <td>3.102418</td>\n",
              "      <td>-0.109109</td>\n",
              "      <td>2.688086</td>\n",
              "      <td>-0.487713</td>\n",
              "      <td>-0.32969</td>\n",
              "      <td>-0.548653</td>\n",
              "      <td>-0.725911</td>\n",
              "      <td>1.414214</td>\n",
              "      <td>-1.011835</td>\n",
              "      <td>-0.424918</td>\n",
              "      <td>-0.088911</td>\n",
              "      <td>1.929306</td>\n",
              "      <td>...</td>\n",
              "      <td>-0.062746</td>\n",
              "      <td>-0.062746</td>\n",
              "      <td>-0.062746</td>\n",
              "      <td>-0.062746</td>\n",
              "      <td>-0.062746</td>\n",
              "      <td>-0.062746</td>\n",
              "      <td>-0.062746</td>\n",
              "      <td>-0.062746</td>\n",
              "      <td>-0.062746</td>\n",
              "      <td>-0.062746</td>\n",
              "      <td>-0.062746</td>\n",
              "      <td>-0.062746</td>\n",
              "      <td>-0.062746</td>\n",
              "      <td>-0.062746</td>\n",
              "      <td>-0.062746</td>\n",
              "      <td>-0.062746</td>\n",
              "      <td>-0.062746</td>\n",
              "      <td>-0.062746</td>\n",
              "      <td>-0.062746</td>\n",
              "      <td>-0.062746</td>\n",
              "      <td>-0.062746</td>\n",
              "      <td>-0.062746</td>\n",
              "      <td>-0.062746</td>\n",
              "      <td>-0.062746</td>\n",
              "      <td>-0.062746</td>\n",
              "      <td>-0.062746</td>\n",
              "      <td>-0.062746</td>\n",
              "      <td>-0.062746</td>\n",
              "      <td>-0.062746</td>\n",
              "      <td>-0.062746</td>\n",
              "      <td>-0.062746</td>\n",
              "      <td>-0.062746</td>\n",
              "      <td>-0.062746</td>\n",
              "      <td>-0.062746</td>\n",
              "      <td>-0.062746</td>\n",
              "      <td>-0.062746</td>\n",
              "      <td>-0.062746</td>\n",
              "      <td>-0.062746</td>\n",
              "      <td>-0.062746</td>\n",
              "      <td>-0.062746</td>\n",
              "    </tr>\n",
              "    <tr>\n",
              "      <th>1</th>\n",
              "      <td>0.624341</td>\n",
              "      <td>-0.191544</td>\n",
              "      <td>-0.969382</td>\n",
              "      <td>-0.358216</td>\n",
              "      <td>0.358216</td>\n",
              "      <td>-0.202031</td>\n",
              "      <td>-0.299572</td>\n",
              "      <td>-0.109109</td>\n",
              "      <td>-0.062746</td>\n",
              "      <td>-0.109109</td>\n",
              "      <td>-0.548653</td>\n",
              "      <td>-0.062746</td>\n",
              "      <td>-0.088911</td>\n",
              "      <td>-0.15523</td>\n",
              "      <td>-0.179969</td>\n",
              "      <td>-0.088911</td>\n",
              "      <td>-0.365148</td>\n",
              "      <td>-0.088911</td>\n",
              "      <td>-0.062746</td>\n",
              "      <td>-0.062746</td>\n",
              "      <td>-0.168005</td>\n",
              "      <td>-0.378811</td>\n",
              "      <td>6.442049</td>\n",
              "      <td>-0.29173</td>\n",
              "      <td>-0.141421</td>\n",
              "      <td>-0.062746</td>\n",
              "      <td>-0.191273</td>\n",
              "      <td>-0.062746</td>\n",
              "      <td>-0.322329</td>\n",
              "      <td>-0.109109</td>\n",
              "      <td>-0.372012</td>\n",
              "      <td>-0.487713</td>\n",
              "      <td>-0.32969</td>\n",
              "      <td>-0.548653</td>\n",
              "      <td>1.377580</td>\n",
              "      <td>1.414214</td>\n",
              "      <td>-1.011835</td>\n",
              "      <td>-0.424918</td>\n",
              "      <td>-0.088911</td>\n",
              "      <td>1.929306</td>\n",
              "      <td>...</td>\n",
              "      <td>-0.062746</td>\n",
              "      <td>-0.062746</td>\n",
              "      <td>-0.062746</td>\n",
              "      <td>-0.062746</td>\n",
              "      <td>-0.062746</td>\n",
              "      <td>-0.062746</td>\n",
              "      <td>-0.062746</td>\n",
              "      <td>-0.062746</td>\n",
              "      <td>-0.062746</td>\n",
              "      <td>-0.062746</td>\n",
              "      <td>-0.062746</td>\n",
              "      <td>-0.062746</td>\n",
              "      <td>-0.062746</td>\n",
              "      <td>-0.062746</td>\n",
              "      <td>-0.062746</td>\n",
              "      <td>-0.062746</td>\n",
              "      <td>-0.062746</td>\n",
              "      <td>-0.062746</td>\n",
              "      <td>-0.062746</td>\n",
              "      <td>-0.062746</td>\n",
              "      <td>-0.062746</td>\n",
              "      <td>-0.062746</td>\n",
              "      <td>-0.062746</td>\n",
              "      <td>-0.062746</td>\n",
              "      <td>-0.062746</td>\n",
              "      <td>-0.062746</td>\n",
              "      <td>-0.062746</td>\n",
              "      <td>-0.062746</td>\n",
              "      <td>-0.062746</td>\n",
              "      <td>-0.062746</td>\n",
              "      <td>-0.062746</td>\n",
              "      <td>-0.062746</td>\n",
              "      <td>-0.062746</td>\n",
              "      <td>-0.062746</td>\n",
              "      <td>-0.062746</td>\n",
              "      <td>-0.062746</td>\n",
              "      <td>-0.062746</td>\n",
              "      <td>-0.062746</td>\n",
              "      <td>-0.062746</td>\n",
              "      <td>-0.062746</td>\n",
              "    </tr>\n",
              "    <tr>\n",
              "      <th>2</th>\n",
              "      <td>-0.285301</td>\n",
              "      <td>0.453248</td>\n",
              "      <td>0.840299</td>\n",
              "      <td>-0.358216</td>\n",
              "      <td>0.358216</td>\n",
              "      <td>-0.202031</td>\n",
              "      <td>-0.299572</td>\n",
              "      <td>-0.109109</td>\n",
              "      <td>-0.062746</td>\n",
              "      <td>-0.109109</td>\n",
              "      <td>-0.548653</td>\n",
              "      <td>-0.062746</td>\n",
              "      <td>-0.088911</td>\n",
              "      <td>-0.15523</td>\n",
              "      <td>-0.179969</td>\n",
              "      <td>-0.088911</td>\n",
              "      <td>-0.365148</td>\n",
              "      <td>-0.088911</td>\n",
              "      <td>-0.062746</td>\n",
              "      <td>-0.062746</td>\n",
              "      <td>-0.168005</td>\n",
              "      <td>2.639839</td>\n",
              "      <td>-0.155230</td>\n",
              "      <td>-0.29173</td>\n",
              "      <td>-0.141421</td>\n",
              "      <td>-0.062746</td>\n",
              "      <td>-0.191273</td>\n",
              "      <td>-0.062746</td>\n",
              "      <td>-0.322329</td>\n",
              "      <td>-0.109109</td>\n",
              "      <td>-0.372012</td>\n",
              "      <td>2.050386</td>\n",
              "      <td>-0.32969</td>\n",
              "      <td>-0.548653</td>\n",
              "      <td>-0.725911</td>\n",
              "      <td>1.414214</td>\n",
              "      <td>-1.011835</td>\n",
              "      <td>-0.424918</td>\n",
              "      <td>-0.088911</td>\n",
              "      <td>1.929306</td>\n",
              "      <td>...</td>\n",
              "      <td>-0.062746</td>\n",
              "      <td>-0.062746</td>\n",
              "      <td>-0.062746</td>\n",
              "      <td>-0.062746</td>\n",
              "      <td>-0.062746</td>\n",
              "      <td>-0.062746</td>\n",
              "      <td>-0.062746</td>\n",
              "      <td>-0.062746</td>\n",
              "      <td>-0.062746</td>\n",
              "      <td>-0.062746</td>\n",
              "      <td>-0.062746</td>\n",
              "      <td>-0.062746</td>\n",
              "      <td>-0.062746</td>\n",
              "      <td>-0.062746</td>\n",
              "      <td>-0.062746</td>\n",
              "      <td>-0.062746</td>\n",
              "      <td>-0.062746</td>\n",
              "      <td>-0.062746</td>\n",
              "      <td>-0.062746</td>\n",
              "      <td>-0.062746</td>\n",
              "      <td>-0.062746</td>\n",
              "      <td>-0.062746</td>\n",
              "      <td>-0.062746</td>\n",
              "      <td>-0.062746</td>\n",
              "      <td>-0.062746</td>\n",
              "      <td>-0.062746</td>\n",
              "      <td>-0.062746</td>\n",
              "      <td>-0.062746</td>\n",
              "      <td>-0.062746</td>\n",
              "      <td>-0.062746</td>\n",
              "      <td>-0.062746</td>\n",
              "      <td>-0.062746</td>\n",
              "      <td>-0.062746</td>\n",
              "      <td>-0.062746</td>\n",
              "      <td>-0.062746</td>\n",
              "      <td>-0.062746</td>\n",
              "      <td>-0.062746</td>\n",
              "      <td>-0.062746</td>\n",
              "      <td>-0.062746</td>\n",
              "      <td>-0.062746</td>\n",
              "    </tr>\n",
              "    <tr>\n",
              "      <th>3</th>\n",
              "      <td>-0.285301</td>\n",
              "      <td>-0.191544</td>\n",
              "      <td>0.940837</td>\n",
              "      <td>-0.358216</td>\n",
              "      <td>0.358216</td>\n",
              "      <td>-0.202031</td>\n",
              "      <td>-0.299572</td>\n",
              "      <td>-0.109109</td>\n",
              "      <td>-0.062746</td>\n",
              "      <td>-0.109109</td>\n",
              "      <td>-0.548653</td>\n",
              "      <td>-0.062746</td>\n",
              "      <td>-0.088911</td>\n",
              "      <td>-0.15523</td>\n",
              "      <td>-0.179969</td>\n",
              "      <td>-0.088911</td>\n",
              "      <td>-0.365148</td>\n",
              "      <td>-0.088911</td>\n",
              "      <td>-0.062746</td>\n",
              "      <td>-0.062746</td>\n",
              "      <td>-0.168005</td>\n",
              "      <td>-0.378811</td>\n",
              "      <td>6.442049</td>\n",
              "      <td>-0.29173</td>\n",
              "      <td>-0.141421</td>\n",
              "      <td>-0.062746</td>\n",
              "      <td>-0.191273</td>\n",
              "      <td>-0.062746</td>\n",
              "      <td>-0.322329</td>\n",
              "      <td>-0.109109</td>\n",
              "      <td>-0.372012</td>\n",
              "      <td>-0.487713</td>\n",
              "      <td>-0.32969</td>\n",
              "      <td>-0.548653</td>\n",
              "      <td>1.377580</td>\n",
              "      <td>1.414214</td>\n",
              "      <td>-1.011835</td>\n",
              "      <td>-0.424918</td>\n",
              "      <td>-0.088911</td>\n",
              "      <td>1.929306</td>\n",
              "      <td>...</td>\n",
              "      <td>-0.062746</td>\n",
              "      <td>-0.062746</td>\n",
              "      <td>-0.062746</td>\n",
              "      <td>-0.062746</td>\n",
              "      <td>-0.062746</td>\n",
              "      <td>-0.062746</td>\n",
              "      <td>-0.062746</td>\n",
              "      <td>-0.062746</td>\n",
              "      <td>-0.062746</td>\n",
              "      <td>-0.062746</td>\n",
              "      <td>-0.062746</td>\n",
              "      <td>-0.062746</td>\n",
              "      <td>-0.062746</td>\n",
              "      <td>-0.062746</td>\n",
              "      <td>-0.062746</td>\n",
              "      <td>-0.062746</td>\n",
              "      <td>-0.062746</td>\n",
              "      <td>-0.062746</td>\n",
              "      <td>-0.062746</td>\n",
              "      <td>-0.062746</td>\n",
              "      <td>-0.062746</td>\n",
              "      <td>-0.062746</td>\n",
              "      <td>-0.062746</td>\n",
              "      <td>-0.062746</td>\n",
              "      <td>-0.062746</td>\n",
              "      <td>-0.062746</td>\n",
              "      <td>-0.062746</td>\n",
              "      <td>-0.062746</td>\n",
              "      <td>-0.062746</td>\n",
              "      <td>-0.062746</td>\n",
              "      <td>-0.062746</td>\n",
              "      <td>-0.062746</td>\n",
              "      <td>-0.062746</td>\n",
              "      <td>-0.062746</td>\n",
              "      <td>-0.062746</td>\n",
              "      <td>-0.062746</td>\n",
              "      <td>-0.062746</td>\n",
              "      <td>-0.062746</td>\n",
              "      <td>-0.062746</td>\n",
              "      <td>-0.062746</td>\n",
              "    </tr>\n",
              "    <tr>\n",
              "      <th>4</th>\n",
              "      <td>-0.285301</td>\n",
              "      <td>0.023387</td>\n",
              "      <td>-0.667768</td>\n",
              "      <td>-0.358216</td>\n",
              "      <td>0.358216</td>\n",
              "      <td>-0.202031</td>\n",
              "      <td>-0.299572</td>\n",
              "      <td>-0.109109</td>\n",
              "      <td>-0.062746</td>\n",
              "      <td>-0.109109</td>\n",
              "      <td>-0.548653</td>\n",
              "      <td>-0.062746</td>\n",
              "      <td>-0.088911</td>\n",
              "      <td>-0.15523</td>\n",
              "      <td>-0.179969</td>\n",
              "      <td>-0.088911</td>\n",
              "      <td>-0.365148</td>\n",
              "      <td>-0.088911</td>\n",
              "      <td>-0.062746</td>\n",
              "      <td>-0.062746</td>\n",
              "      <td>-0.168005</td>\n",
              "      <td>-0.378811</td>\n",
              "      <td>-0.155230</td>\n",
              "      <td>-0.29173</td>\n",
              "      <td>-0.141421</td>\n",
              "      <td>-0.062746</td>\n",
              "      <td>-0.191273</td>\n",
              "      <td>-0.062746</td>\n",
              "      <td>3.102418</td>\n",
              "      <td>-0.109109</td>\n",
              "      <td>2.688086</td>\n",
              "      <td>-0.487713</td>\n",
              "      <td>-0.32969</td>\n",
              "      <td>-0.548653</td>\n",
              "      <td>-0.725911</td>\n",
              "      <td>1.414214</td>\n",
              "      <td>-1.011835</td>\n",
              "      <td>-0.424918</td>\n",
              "      <td>-0.088911</td>\n",
              "      <td>1.929306</td>\n",
              "      <td>...</td>\n",
              "      <td>-0.062746</td>\n",
              "      <td>-0.062746</td>\n",
              "      <td>-0.062746</td>\n",
              "      <td>-0.062746</td>\n",
              "      <td>-0.062746</td>\n",
              "      <td>-0.062746</td>\n",
              "      <td>-0.062746</td>\n",
              "      <td>-0.062746</td>\n",
              "      <td>-0.062746</td>\n",
              "      <td>-0.062746</td>\n",
              "      <td>-0.062746</td>\n",
              "      <td>-0.062746</td>\n",
              "      <td>-0.062746</td>\n",
              "      <td>-0.062746</td>\n",
              "      <td>-0.062746</td>\n",
              "      <td>-0.062746</td>\n",
              "      <td>-0.062746</td>\n",
              "      <td>-0.062746</td>\n",
              "      <td>-0.062746</td>\n",
              "      <td>-0.062746</td>\n",
              "      <td>-0.062746</td>\n",
              "      <td>-0.062746</td>\n",
              "      <td>-0.062746</td>\n",
              "      <td>-0.062746</td>\n",
              "      <td>-0.062746</td>\n",
              "      <td>-0.062746</td>\n",
              "      <td>-0.062746</td>\n",
              "      <td>-0.062746</td>\n",
              "      <td>-0.062746</td>\n",
              "      <td>-0.062746</td>\n",
              "      <td>-0.062746</td>\n",
              "      <td>-0.062746</td>\n",
              "      <td>-0.062746</td>\n",
              "      <td>-0.062746</td>\n",
              "      <td>-0.062746</td>\n",
              "      <td>-0.062746</td>\n",
              "      <td>-0.062746</td>\n",
              "      <td>-0.062746</td>\n",
              "      <td>-0.062746</td>\n",
              "      <td>-0.062746</td>\n",
              "    </tr>\n",
              "  </tbody>\n",
              "</table>\n",
              "<p>5 rows × 368 columns</p>\n",
              "</div>"
            ],
            "text/plain": [
              "        0         1         2    ...       365       366       367\n",
              "0  0.134534 -0.299009 -1.069920  ... -0.062746 -0.062746 -0.062746\n",
              "1  0.624341 -0.191544 -0.969382  ... -0.062746 -0.062746 -0.062746\n",
              "2 -0.285301  0.453248  0.840299  ... -0.062746 -0.062746 -0.062746\n",
              "3 -0.285301 -0.191544  0.940837  ... -0.062746 -0.062746 -0.062746\n",
              "4 -0.285301  0.023387 -0.667768  ... -0.062746 -0.062746 -0.062746\n",
              "\n",
              "[5 rows x 368 columns]"
            ]
          },
          "metadata": {
            "tags": []
          },
          "execution_count": 47
        }
      ]
    },
    {
      "cell_type": "markdown",
      "metadata": {
        "id": "IXw2YSln8L_s"
      },
      "source": [
        "##Creating Train and Test Datasets with Test size as 20% of the given Dataset"
      ]
    },
    {
      "cell_type": "code",
      "metadata": {
        "id": "QXNqLuD44Exi"
      },
      "source": [
        "X_test = X.iloc[150:201,:].values\r\n",
        "X_train1 = X.iloc[:150,:].values\r\n",
        "X_train2 = X.iloc[201:,:].values\r\n",
        "X_train3 = X.iloc[190:191,:].values\r\n",
        "\r\n",
        "X_test = pd.DataFrame(X_test)\r\n",
        "X_train1 = pd.DataFrame(X_train1)\r\n",
        "X_train2 = pd.DataFrame(X_train2)\r\n",
        "X_train3 = pd.DataFrame(X_train3)\r\n",
        "X_train = pd.concat([X_train1,X_train2,X_train3], axis=0)\r\n",
        "\r\n",
        "y_test = y.iloc[150:201].values\r\n",
        "y_train1 = y.iloc[:150].values\r\n",
        "y_train2 = y.iloc[201:].values\r\n",
        "y_train3 = y.iloc[190:191].values\r\n",
        "\r\n",
        "y_test = pd.DataFrame(y_test)\r\n",
        "y_train1 = pd.DataFrame(y_train1)\r\n",
        "y_train2 = pd.DataFrame(y_train2)\r\n",
        "y_train3 = pd.DataFrame(y_train3)\r\n",
        "y_train = pd.concat([y_train1,y_train2,y_train3], axis=0)"
      ],
      "execution_count": 48,
      "outputs": []
    },
    {
      "cell_type": "code",
      "metadata": {
        "colab": {
          "base_uri": "https://localhost:8080/"
        },
        "id": "Vxayo33aDCIn",
        "outputId": "1cc72385-9063-48d7-a775-3350b68ff22e"
      },
      "source": [
        "print('Number of Train Data :',X_train.shape[0])\r\n",
        "print('Number of Test Data :',X_test.shape[0])\r\n",
        "print('Percentage of Train Data :',(X_train.shape[0]/ X.shape[0])*100 , '%')\r\n",
        "print('Percentage of Test Data :',(X_test.shape[0]/ X.shape[0])*100 , '%')"
      ],
      "execution_count": 49,
      "outputs": [
        {
          "output_type": "stream",
          "text": [
            "Number of Train Data : 205\n",
            "Number of Test Data : 51\n",
            "Percentage of Train Data : 80.3921568627451 %\n",
            "Percentage of Test Data : 20.0 %\n"
          ],
          "name": "stdout"
        }
      ]
    },
    {
      "cell_type": "markdown",
      "metadata": {
        "id": "V1hJJPA-8PxC"
      },
      "source": [
        "## Random Forest Classifier"
      ]
    },
    {
      "cell_type": "markdown",
      "metadata": {
        "id": "VnFTV39_xrfJ"
      },
      "source": [
        "### Training the model and calculating Overall Accuracy and Kappa Coefficient"
      ]
    },
    {
      "cell_type": "code",
      "metadata": {
        "colab": {
          "base_uri": "https://localhost:8080/"
        },
        "id": "sqYxz_La4Ntl",
        "outputId": "613612bc-df5e-4c89-f842-41f4157a5152"
      },
      "source": [
        "clf1 = RandomForestClassifier(n_estimators=10, random_state=42, max_depth=2, criterion='entropy', max_features=None)\r\n",
        "clf1.fit(X_train,y_train)\r\n",
        "\r\n",
        "y_pred1 = clf1.predict(X_test)\r\n",
        "\r\n",
        "print(\"Accuracy_Score :\", accuracy_score(y_test, y_pred1))\r\n",
        "\r\n",
        "print(\"Kappa_Score :\",cohen_kappa_score(y_test, y_pred1))\r\n",
        "\r\n",
        "cm1 = confusion_matrix(y_test,y_pred1)\r\n",
        "cm1 = pd.DataFrame(cm1)\r\n",
        "\r\n"
      ],
      "execution_count": 50,
      "outputs": [
        {
          "output_type": "stream",
          "text": [
            "Accuracy_Score : 0.9411764705882353\n",
            "Kappa_Score : 0.7441471571906355\n"
          ],
          "name": "stdout"
        },
        {
          "output_type": "stream",
          "text": [
            "/usr/local/lib/python3.7/dist-packages/ipykernel_launcher.py:2: DataConversionWarning: A column-vector y was passed when a 1d array was expected. Please change the shape of y to (n_samples,), for example using ravel().\n",
            "  \n"
          ],
          "name": "stderr"
        }
      ]
    },
    {
      "cell_type": "markdown",
      "metadata": {
        "id": "1W5wo1c8yFzF"
      },
      "source": [
        "### Plotting the Confusion Matrix"
      ]
    },
    {
      "cell_type": "code",
      "metadata": {
        "colab": {
          "base_uri": "https://localhost:8080/",
          "height": 279
        },
        "id": "RUhX1eKogK_d",
        "outputId": "105010ad-1ccb-4fb9-b145-d29a9393c763"
      },
      "source": [
        "plot_confusion_matrix(clf1, X_test, y_test)  \r\n",
        "plt.show() "
      ],
      "execution_count": 51,
      "outputs": [
        {
          "output_type": "display_data",
          "data": {
            "image/png": "[encoded data removed]",
            "text/plain": [
              "<Figure size 432x288 with 2 Axes>"
            ]
          },
          "metadata": {
            "tags": [],
            "needs_background": "light"
          }
        }
      ]
    },
    {
      "cell_type": "markdown",
      "metadata": {
        "id": "uHvIw12TzcCc"
      },
      "source": [
        "### Calculating the Producer's Accuracy"
      ]
    },
    {
      "cell_type": "code",
      "metadata": {
        "colab": {
          "base_uri": "https://localhost:8080/"
        },
        "id": "Jh92TYi0oTeg",
        "outputId": "9c505781-7970-4d29-a1d1-12432ffc9c4e"
      },
      "source": [
        "print('PRODUCERS ACCURACY')\r\n",
        "print('Bitter:',cm1.iat[0,0]/(cm1.iat[0,0] + cm1.iat[0,1] + cm1.iat[0,2] + cm1.iat[0,3]))\r\n",
        "print('Sour:',cm1.iat[1,1]/(cm1.iat[1,0] + cm1.iat[1,1] + cm1.iat[1,2] + cm1.iat[1,3]))\r\n",
        "print('Spicy:',cm1.iat[2,2]/(cm1.iat[2,0] + cm1.iat[2,1] + cm1.iat[2,2] + cm1.iat[2,3]))\r\n",
        "print('Sweet:',cm1.iat[3,3]/(cm1.iat[3,0] + cm1.iat[3,1] + cm1.iat[3,2] + cm1.iat[3,3]))"
      ],
      "execution_count": 52,
      "outputs": [
        {
          "output_type": "stream",
          "text": [
            "PRODUCERS ACCURACY\n",
            "Bitter: 0.0\n",
            "Sour: 0.0\n",
            "Spicy: 1.0\n",
            "Sweet: 1.0\n"
          ],
          "name": "stdout"
        }
      ]
    },
    {
      "cell_type": "markdown",
      "metadata": {
        "id": "uIm4ld7fzrUf"
      },
      "source": [
        "### Calculating the User's Accuracy"
      ]
    },
    {
      "cell_type": "code",
      "metadata": {
        "colab": {
          "base_uri": "https://localhost:8080/"
        },
        "id": "eDAhaVA5oUwu",
        "outputId": "4a2074b2-5030-4ef3-eeb0-25dc83a78449"
      },
      "source": [
        "print('USERS ACCURACY')\r\n",
        "print('Bitter:',cm1.iat[0,0]/(cm1.iat[0,0] + cm1.iat[1,0] + cm1.iat[2,0] + cm1.iat[3,0]))\r\n",
        "print('Sour:',cm1.iat[1,1]/(cm1.iat[0,1] + cm1.iat[1,1] + cm1.iat[2,1] + cm1.iat[3,1]))\r\n",
        "print('Spicy:',cm1.iat[2,2]/(cm1.iat[0,2] + cm1.iat[1,2] + cm1.iat[2,2] + cm1.iat[3,2]))\r\n",
        "print('Sweet:',cm1.iat[3,3]/(cm1.iat[0,3] + cm1.iat[1,3] + cm1.iat[2,3] + cm1.iat[3,3]))"
      ],
      "execution_count": 53,
      "outputs": [
        {
          "output_type": "stream",
          "text": [
            "USERS ACCURACY\n",
            "Bitter: nan\n",
            "Sour: nan\n",
            "Spicy: 0.9347826086956522\n",
            "Sweet: 1.0\n"
          ],
          "name": "stdout"
        },
        {
          "output_type": "stream",
          "text": [
            "/usr/local/lib/python3.7/dist-packages/ipykernel_launcher.py:2: RuntimeWarning: invalid value encountered in long_scalars\n",
            "  \n",
            "/usr/local/lib/python3.7/dist-packages/ipykernel_launcher.py:3: RuntimeWarning: invalid value encountered in long_scalars\n",
            "  This is separate from the ipykernel package so we can avoid doing imports until\n"
          ],
          "name": "stderr"
        }
      ]
    },
    {
      "cell_type": "markdown",
      "metadata": {
        "id": "omDLWwbV8ivH"
      },
      "source": [
        "## Support Vector Machine Classification"
      ]
    },
    {
      "cell_type": "markdown",
      "metadata": {
        "id": "plqwC43ExyiS"
      },
      "source": [
        "### Training the model and calculating Overall Accuracy and Kappa Coefficient\r\n"
      ]
    },
    {
      "cell_type": "code",
      "metadata": {
        "colab": {
          "base_uri": "https://localhost:8080/"
        },
        "id": "UgAwfBGn5Bwg",
        "outputId": "889ca41b-90e1-4626-ab38-90260c9bee77"
      },
      "source": [
        "clf2 = SVC(kernel='sigmoid', gamma='auto', C=3.5, class_weight='balanced')\r\n",
        "clf2.fit(X_train,y_train)\r\n",
        "y_pred2 = clf2.predict(X_test)\r\n",
        "\r\n",
        "print(\"Accuracy_Score :\",accuracy_score(y_test, y_pred2))\r\n",
        "\r\n",
        "print(\"Kappa_Score :\",cohen_kappa_score(y_test, y_pred2))\r\n",
        "\r\n",
        "cm2 = confusion_matrix(y_test,y_pred2)\r\n",
        "cm2 = pd.DataFrame(cm2)\r\n",
        "\r\n"
      ],
      "execution_count": 54,
      "outputs": [
        {
          "output_type": "stream",
          "text": [
            "Accuracy_Score : 0.9215686274509803\n",
            "Kappa_Score : 0.7446808510638299\n"
          ],
          "name": "stdout"
        },
        {
          "output_type": "stream",
          "text": [
            "/usr/local/lib/python3.7/dist-packages/sklearn/utils/validation.py:760: DataConversionWarning: A column-vector y was passed when a 1d array was expected. Please change the shape of y to (n_samples, ), for example using ravel().\n",
            "  y = column_or_1d(y, warn=True)\n"
          ],
          "name": "stderr"
        }
      ]
    },
    {
      "cell_type": "markdown",
      "metadata": {
        "id": "56fA4eZHyJ6-"
      },
      "source": [
        "### Plotting the Confusion Matrix"
      ]
    },
    {
      "cell_type": "code",
      "metadata": {
        "colab": {
          "base_uri": "https://localhost:8080/",
          "height": 283
        },
        "id": "cuMYR6OFgRgH",
        "outputId": "a8015445-5b6c-428e-edaa-325128e86618"
      },
      "source": [
        "plot_confusion_matrix(clf2, X_test, y_test)  \r\n",
        "plt.show() "
      ],
      "execution_count": 55,
      "outputs": [
        {
          "output_type": "display_data",
          "data": {
            "image/png": "[encoded data removed]",
            "text/plain": [
              "<Figure size 432x288 with 2 Axes>"
            ]
          },
          "metadata": {
            "tags": [],
            "needs_background": "light"
          }
        }
      ]
    },
    {
      "cell_type": "markdown",
      "metadata": {
        "id": "upVPxbbFze7G"
      },
      "source": [
        "### Calculating the Producer's Accuracy"
      ]
    },
    {
      "cell_type": "code",
      "metadata": {
        "colab": {
          "base_uri": "https://localhost:8080/"
        },
        "id": "1rjQSqB0nx1C",
        "outputId": "2d4e1c43-0976-48c8-8b27-e9e624621c0c"
      },
      "source": [
        "print('PRODUCERS ACCURACY')\r\n",
        "print('Bitter:',cm2.iat[0,0]/(cm2.iat[0,0] + cm2.iat[0,1] + cm2.iat[0,2] + cm2.iat[0,3]))\r\n",
        "print('Sour:',cm2.iat[1,1]/(cm2.iat[1,0] + cm2.iat[1,1] + cm2.iat[1,2] + cm2.iat[1,3]))\r\n",
        "print('Spicy:',cm2.iat[2,2]/(cm2.iat[2,0] + cm2.iat[2,1] + cm2.iat[2,2] + cm2.iat[2,3]))\r\n",
        "print('Sweet:',cm2.iat[3,3]/(cm2.iat[3,0] + cm2.iat[3,1] + cm2.iat[3,2] + cm2.iat[3,3]))"
      ],
      "execution_count": 56,
      "outputs": [
        {
          "output_type": "stream",
          "text": [
            "PRODUCERS ACCURACY\n",
            "Bitter: 0.5\n",
            "Sour: 1.0\n",
            "Spicy: 0.9302325581395349\n",
            "Sweet: 1.0\n"
          ],
          "name": "stdout"
        }
      ]
    },
    {
      "cell_type": "markdown",
      "metadata": {
        "id": "gpr32aAkzoWF"
      },
      "source": [
        "### Calculating the User's Accuracy"
      ]
    },
    {
      "cell_type": "code",
      "metadata": {
        "colab": {
          "base_uri": "https://localhost:8080/"
        },
        "id": "NAIIEROmn5xc",
        "outputId": "464af3dd-66d7-49fe-9fcc-63ac7d8630e5"
      },
      "source": [
        "print('USERS ACCURACY')\r\n",
        "print('Bitter:',cm3.iat[0,0]/(cm3.iat[0,0] + cm3.iat[1,0] + cm3.iat[2,0] + cm3.iat[3,0]))\r\n",
        "print('Sour:',cm3.iat[1,1]/(cm3.iat[0,1] + cm3.iat[1,1] + cm3.iat[2,1] + cm3.iat[3,1]))\r\n",
        "print('Spicy:',cm3.iat[2,2]/(cm3.iat[0,2] + cm3.iat[1,2] + cm3.iat[2,2] + cm3.iat[3,2]))\r\n",
        "print('Sweet:',cm3.iat[3,3]/(cm3.iat[0,3] + cm3.iat[1,3] + cm3.iat[2,3] + cm3.iat[3,3]))"
      ],
      "execution_count": 57,
      "outputs": [
        {
          "output_type": "stream",
          "text": [
            "USERS ACCURACY\n",
            "Bitter: 0.9375\n",
            "Sour: 0.8333333333333334\n",
            "Spicy: 0.0\n",
            "Sweet: nan\n"
          ],
          "name": "stdout"
        },
        {
          "output_type": "stream",
          "text": [
            "/usr/local/lib/python3.7/dist-packages/ipykernel_launcher.py:5: RuntimeWarning: invalid value encountered in long_scalars\n",
            "  \"\"\"\n"
          ],
          "name": "stderr"
        }
      ]
    },
    {
      "cell_type": "markdown",
      "metadata": {
        "id": "6w5VvVhA8zbx"
      },
      "source": [
        "## Gradient Boosting Classifier"
      ]
    },
    {
      "cell_type": "markdown",
      "metadata": {
        "id": "rN5sPJwJx1td"
      },
      "source": [
        "### Training the model and calculating Overall Accuracy and Kappa Coefficient"
      ]
    },
    {
      "cell_type": "code",
      "metadata": {
        "colab": {
          "base_uri": "https://localhost:8080/"
        },
        "id": "w9fPcfgmUmeZ",
        "outputId": "bc4770d1-4043-4241-96da-3e7459b0f6ec"
      },
      "source": [
        "clf3 = GradientBoostingClassifier(n_estimators=900, learning_rate=1.3, min_samples_split=4, validation_fraction=0.2)\r\n",
        "clf3.fit(X_train,y_train)\r\n",
        "y_pred3 = clf3.predict(X_test)\r\n",
        "\r\n",
        "print(\"Accuracy_Score :\",accuracy_score(y_test, y_pred3))\r\n",
        "\r\n",
        "cm3 = confusion_matrix(y_test,y_pred3)\r\n",
        "cm3 = pd.DataFrame(cm3)\r\n",
        "\r\n",
        "print(\"Kappa_Score : \",cohen_kappa_score(y_test, y_pred3))"
      ],
      "execution_count": 58,
      "outputs": [
        {
          "output_type": "stream",
          "text": [
            "/usr/local/lib/python3.7/dist-packages/sklearn/ensemble/_gb.py:1454: DataConversionWarning: A column-vector y was passed when a 1d array was expected. Please change the shape of y to (n_samples, ), for example using ravel().\n",
            "  y = column_or_1d(y, warn=True)\n"
          ],
          "name": "stderr"
        },
        {
          "output_type": "stream",
          "text": [
            "Accuracy_Score : 0.9215686274509803\n",
            "Kappa_Score :  0.7290836653386454\n"
          ],
          "name": "stdout"
        }
      ]
    },
    {
      "cell_type": "markdown",
      "metadata": {
        "id": "LP_y5LOgyOQu"
      },
      "source": [
        "### Plotting the Confusion Matrix"
      ]
    },
    {
      "cell_type": "code",
      "metadata": {
        "colab": {
          "base_uri": "https://localhost:8080/",
          "height": 279
        },
        "id": "jeK22-SggTYN",
        "outputId": "a86ea0c1-66e5-4ab7-8fa7-944c5c397c8d"
      },
      "source": [
        "plot_confusion_matrix(clf3, X_test, y_test)  \r\n",
        "plt.show() "
      ],
      "execution_count": 59,
      "outputs": [
        {
          "output_type": "display_data",
          "data": {
            "image/png": "[encoded data removed]",
            "text/plain": [
              "<Figure size 432x288 with 2 Axes>"
            ]
          },
          "metadata": {
            "tags": [],
            "needs_background": "light"
          }
        }
      ]
    },
    {
      "cell_type": "markdown",
      "metadata": {
        "id": "97QWwxf4zhST"
      },
      "source": [
        "### Calculating the Producer's Accuracy"
      ]
    },
    {
      "cell_type": "code",
      "metadata": {
        "id": "KmIfU2gLU72b",
        "colab": {
          "base_uri": "https://localhost:8080/"
        },
        "outputId": "acae82c0-65a5-4d30-f96c-37b789a91d46"
      },
      "source": [
        "print('PRODUCERS ACCURACY')\r\n",
        "print('Bitter:',cm3.iat[0,0]/(cm3.iat[0,0] + cm3.iat[0,1] + cm3.iat[0,2] + cm3.iat[0,3]))\r\n",
        "print('Sour:',cm3.iat[1,1]/(cm3.iat[1,0] + cm3.iat[1,1] + cm3.iat[1,2] + cm3.iat[1,3]))\r\n",
        "print('Spicy:',cm3.iat[2,2]/(cm3.iat[2,0] + cm3.iat[2,1] + cm3.iat[2,2] + cm3.iat[2,3]))\r\n",
        "print('Sweet:',cm3.iat[3,3]/(cm3.iat[3,0] + cm3.iat[3,1] + cm3.iat[3,2] + cm3.iat[3,3]))"
      ],
      "execution_count": 60,
      "outputs": [
        {
          "output_type": "stream",
          "text": [
            "PRODUCERS ACCURACY\n",
            "Bitter: 0.5\n",
            "Sour: 0.0\n",
            "Spicy: 0.9534883720930233\n",
            "Sweet: 1.0\n"
          ],
          "name": "stdout"
        }
      ]
    },
    {
      "cell_type": "markdown",
      "metadata": {
        "id": "jzmQezAvzkik"
      },
      "source": [
        "### Calculating the User's Accuracy"
      ]
    },
    {
      "cell_type": "code",
      "metadata": {
        "colab": {
          "base_uri": "https://localhost:8080/"
        },
        "id": "dpDhK9XBnMjJ",
        "outputId": "6e21d2f6-7b99-42fc-e5fe-6f69997a40c3"
      },
      "source": [
        "print('USERS ACCURACY')\r\n",
        "print('Bitter:',cm3.iat[0,0]/(cm3.iat[0,0] + cm3.iat[1,0] + cm3.iat[2,0] + cm3.iat[3,0]))\r\n",
        "print('Sour:',cm3.iat[1,1]/(cm3.iat[0,1] + cm3.iat[1,1] + cm3.iat[2,1] + cm3.iat[3,1]))\r\n",
        "print('Spicy:',cm3.iat[2,2]/(cm3.iat[0,2] + cm3.iat[1,2] + cm3.iat[2,2] + cm3.iat[3,2]))\r\n",
        "print('Sweet:',cm3.iat[3,3]/(cm3.iat[0,3] + cm3.iat[1,3] + cm3.iat[2,3] + cm3.iat[3,3]))"
      ],
      "execution_count": 61,
      "outputs": [
        {
          "output_type": "stream",
          "text": [
            "USERS ACCURACY\n",
            "Bitter: 1.0\n",
            "Sour: nan\n",
            "Spicy: 0.9761904761904762\n",
            "Sweet: 0.625\n"
          ],
          "name": "stdout"
        },
        {
          "output_type": "stream",
          "text": [
            "/usr/local/lib/python3.7/dist-packages/ipykernel_launcher.py:3: RuntimeWarning: invalid value encountered in long_scalars\n",
            "  This is separate from the ipykernel package so we can avoid doing imports until\n"
          ],
          "name": "stderr"
        }
      ]
    },
    {
      "cell_type": "code",
      "metadata": {
        "id": "BkAvJeEEnMnR"
      },
      "source": [
        ""
      ],
      "execution_count": 61,
      "outputs": []
    }
  ]
}